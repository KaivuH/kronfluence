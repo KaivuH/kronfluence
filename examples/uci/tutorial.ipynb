{
 "cells": [
  {
   "cell_type": "code",
   "execution_count": 1,
   "id": "initial_id",
   "metadata": {
    "collapsed": true,
    "ExecuteTime": {
     "end_time": "2024-03-12T10:46:20.005159Z",
     "start_time": "2024-03-12T10:46:19.995640Z"
    }
   },
   "outputs": [],
   "source": [
    "import kronfluence"
   ]
  },
  {
   "cell_type": "code",
   "execution_count": 2,
   "outputs": [],
   "source": [
    "from examples.uci.train import train, evaluate"
   ],
   "metadata": {
    "collapsed": false,
    "ExecuteTime": {
     "end_time": "2024-03-12T10:47:03.741170Z",
     "start_time": "2024-03-12T10:47:02.235222Z"
    }
   },
   "id": "4e56f0f1d6e34e62"
  },
  {
   "cell_type": "code",
   "execution_count": 3,
   "outputs": [],
   "source": [
    "from kronfluence.analyzer import Analyzer, prepare_model\n",
    "from kronfluence.arguments import FactorArguments\n",
    "from kronfluence.task import Task"
   ],
   "metadata": {
    "collapsed": false,
    "ExecuteTime": {
     "end_time": "2024-03-12T10:55:57.054379Z",
     "start_time": "2024-03-12T10:55:57.034172Z"
    }
   },
   "id": "6dc3ab20b6cb4050"
  },
  {
   "cell_type": "code",
   "execution_count": 4,
   "outputs": [],
   "source": [
    "from examples.uci.pipeline import construct_regression_mlp, get_regression_dataset"
   ],
   "metadata": {
    "collapsed": false,
    "ExecuteTime": {
     "end_time": "2024-03-12T11:40:46.724609Z",
     "start_time": "2024-03-12T11:40:46.722860Z"
    }
   },
   "id": "f3ed29a0d098c6dd"
  },
  {
   "cell_type": "code",
   "execution_count": null,
   "outputs": [],
   "source": [
    "dataset_name = \"concrete\"\n",
    "dataset_dir = \"./data\"\n",
    "train_batch_size = 32\n",
    "num_train_epochs = 40\n"
   ],
   "metadata": {
    "collapsed": false
   },
   "id": "cd2af4deeea3afd7"
  },
  {
   "cell_type": "code",
   "execution_count": null,
   "outputs": [],
   "source": [
    "train_dataset = get_regression_dataset(data_name=dataset_name, split=\"train\", dataset_dir=dataset_dir)\n",
    "\n",
    "model = train(\n",
    "    dataset=train_dataset,\n",
    "    batch_size=args.train_batch_size,\n",
    "    num_train_epochs=args.num_train_epochs,\n",
    "    learning_rate=args.learning_rate,\n",
    "    weight_decay=args.weight_decay,\n",
    ")"
   ],
   "metadata": {
    "collapsed": false
   },
   "id": "c75658f17d06a7ab"
  }
 ],
 "metadata": {
  "kernelspec": {
   "display_name": "Python 3",
   "language": "python",
   "name": "python3"
  },
  "language_info": {
   "codemirror_mode": {
    "name": "ipython",
    "version": 2
   },
   "file_extension": ".py",
   "mimetype": "text/x-python",
   "name": "python",
   "nbconvert_exporter": "python",
   "pygments_lexer": "ipython2",
   "version": "2.7.6"
  }
 },
 "nbformat": 4,
 "nbformat_minor": 5
}
