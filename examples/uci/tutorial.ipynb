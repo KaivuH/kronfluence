{
 "cells": [
  {
   "cell_type": "markdown",
   "id": "60a4df59-3c1e-47aa-bc08-12b883bc6579",
   "metadata": {},
   "source": [
    "# Kronfluence Tutorial\n",
    "\n",
    "Kronfluence is a repository designed to compute influence functions using Kronecker-factored Approximate Curvature (KFAC) or Eigenvalue-corrected KFAC (EKFAC). In this short tutorial, we will introduce some functionalities of Kronfluence on the UCI regression pipeline (it is quick to run and does not require GPUs)."
   ]
  },
  {
   "cell_type": "code",
   "execution_count": 265,
   "id": "initial_id",
   "metadata": {
    "ExecuteTime": {
     "end_time": "2024-03-12T10:46:20.005159Z",
     "start_time": "2024-03-12T10:46:19.995640Z"
    }
   },
   "outputs": [],
   "source": [
    "import math\n",
    "import random\n",
    "from typing import List, Optional, Tuple\n",
    "\n",
    "import matplotlib.pyplot as plt\n",
    "import torch\n",
    "import torch.nn.functional as F\n",
    "from torch import nn\n",
    "from tueplots import cycler, markers\n",
    "from tueplots.constants import markers as marker_constants\n",
    "from tueplots.constants.color import palettes\n",
    "\n",
    "from examples.uci.pipeline import get_regression_dataset\n",
    "\n",
    "plt.rcParams.update({\"figure.dpi\": 150})\n",
    "plt.rcParams.update(markers.with_edge())"
   ]
  },
  {
   "cell_type": "markdown",
   "id": "7d13fb5e-1ffb-463d-bcd4-dbf09559abb1",
   "metadata": {},
   "source": [
    "## Setting up the Model and Dataset"
   ]
  },
  {
   "cell_type": "markdown",
   "id": "8c4246ae-3f8f-460f-a987-ad89c1bdc5cd",
   "metadata": {},
   "source": [
    "Before computing influence scores, we need to prepare the trained model and datasets. Let's define the hyperparameters that we will use to train the model."
   ]
  },
  {
   "cell_type": "code",
   "execution_count": 266,
   "id": "4e56f0f1d6e34e62",
   "metadata": {
    "ExecuteTime": {
     "end_time": "2024-03-12T10:47:03.741170Z",
     "start_time": "2024-03-12T10:47:02.235222Z"
    },
    "collapsed": false,
    "jupyter": {
     "outputs_hidden": false
    }
   },
   "outputs": [],
   "source": [
    "dataset_name = \"concrete\"\n",
    "dataset_dir = \"./data\"\n",
    "train_batch_size = 32\n",
    "eval_batch_size = 128\n",
    "num_train_epochs = 40\n",
    "learning_rate = 0.03\n",
    "weight_decay = 1e-05"
   ]
  },
  {
   "cell_type": "markdown",
   "id": "aafc7037-a40d-47d0-877b-91e2bc71ec7a",
   "metadata": {},
   "source": [
    "After loading training and query (validation) datasets, we will train the model."
   ]
  },
  {
   "cell_type": "code",
   "execution_count": 267,
   "id": "3ec0486b-4abe-461e-a258-8d24d9c1b10b",
   "metadata": {},
   "outputs": [
    {
     "data": {
      "text/plain": [
       "((927, 8), (927, 1))"
      ]
     },
     "execution_count": 267,
     "metadata": {},
     "output_type": "execute_result"
    }
   ],
   "source": [
    "train_dataset = get_regression_dataset(data_name=dataset_name, split=\"train\", dataset_dir=dataset_dir)\n",
    "query_dataset = get_regression_dataset(data_name=dataset_name, split=\"valid\", dataset_dir=dataset_dir)\n",
    "train_dataset.data_x.shape, train_dataset.data_y.shape"
   ]
  },
  {
   "cell_type": "code",
   "execution_count": 268,
   "id": "54b2c746-0432-4917-aeb7-17e91e72553b",
   "metadata": {},
   "outputs": [
    {
     "data": {
      "text/plain": [
       "Sequential(\n",
       "  (0): Linear(in_features=8, out_features=128, bias=True)\n",
       "  (1): ReLU()\n",
       "  (2): Linear(in_features=128, out_features=128, bias=True)\n",
       "  (3): ReLU()\n",
       "  (4): Linear(in_features=128, out_features=128, bias=True)\n",
       "  (5): ReLU()\n",
       "  (6): Linear(in_features=128, out_features=1, bias=True)\n",
       ")"
      ]
     },
     "execution_count": 268,
     "metadata": {},
     "output_type": "execute_result"
    }
   ],
   "source": [
    "construct_regression_mlp()"
   ]
  },
  {
   "cell_type": "code",
   "execution_count": 269,
   "id": "d8f275b5-7767-4d26-84ff-8a39aa74df08",
   "metadata": {},
   "outputs": [],
   "source": [
    "def train(\n",
    "    dataset: data.Dataset,\n",
    "    batch_size: int,\n",
    "    num_train_epochs: int,\n",
    "    learning_rate: float,\n",
    "    weight_decay: float,\n",
    "    disable_tqdm: bool = False,\n",
    ") -> nn.Module:\n",
    "    train_dataloader = data.DataLoader(\n",
    "        dataset=dataset,\n",
    "        batch_size=batch_size,\n",
    "        shuffle=True,\n",
    "        drop_last=True,\n",
    "    )\n",
    "    model = construct_regression_mlp()\n",
    "    optimizer = torch.optim.SGD(model.parameters(), lr=learning_rate, weight_decay=weight_decay)\n",
    "\n",
    "    model.train()\n",
    "    for epoch in range(num_train_epochs):\n",
    "        total_loss = 0.0\n",
    "        with tqdm(train_dataloader, unit=\"batch\", disable=disable_tqdm) as tepoch:\n",
    "            for batch in tepoch:\n",
    "                tepoch.set_description(f\"Epoch {epoch}\")\n",
    "                model.zero_grad()\n",
    "                inputs, targets = batch\n",
    "                outputs = model(inputs)\n",
    "                loss = F.mse_loss(outputs, targets)\n",
    "                total_loss += loss.detach().float()\n",
    "                loss.backward()\n",
    "                optimizer.step()\n",
    "                tepoch.set_postfix(loss=total_loss.item() / len(train_dataloader))\n",
    "    return model"
   ]
  },
  {
   "cell_type": "code",
   "execution_count": 270,
   "id": "6a1337cb-6fe5-4edc-9821-de27bbef9074",
   "metadata": {},
   "outputs": [
    {
     "name": "stderr",
     "output_type": "stream",
     "text": [
      "Epoch 0: 100%|████████████████████████████████████████████████████████████████████████████████████████████████████████████████████████████████████████████████████| 28/28 [00:00<00:00, 429.69batch/s, loss=0.883]\n",
      "Epoch 1: 100%|████████████████████████████████████████████████████████████████████████████████████████████████████████████████████████████████████████████████████| 28/28 [00:00<00:00, 593.30batch/s, loss=0.569]\n",
      "Epoch 2: 100%|████████████████████████████████████████████████████████████████████████████████████████████████████████████████████████████████████████████████████| 28/28 [00:00<00:00, 686.31batch/s, loss=0.387]\n",
      "Epoch 3: 100%|████████████████████████████████████████████████████████████████████████████████████████████████████████████████████████████████████████████████████| 28/28 [00:00<00:00, 687.60batch/s, loss=0.343]\n",
      "Epoch 4: 100%|████████████████████████████████████████████████████████████████████████████████████████████████████████████████████████████████████████████████████| 28/28 [00:00<00:00, 711.52batch/s, loss=0.289]\n",
      "Epoch 5: 100%|████████████████████████████████████████████████████████████████████████████████████████████████████████████████████████████████████████████████████| 28/28 [00:00<00:00, 617.26batch/s, loss=0.246]\n",
      "Epoch 6: 100%|████████████████████████████████████████████████████████████████████████████████████████████████████████████████████████████████████████████████████| 28/28 [00:00<00:00, 691.57batch/s, loss=0.216]\n",
      "Epoch 7: 100%|████████████████████████████████████████████████████████████████████████████████████████████████████████████████████████████████████████████████████| 28/28 [00:00<00:00, 739.70batch/s, loss=0.208]\n",
      "Epoch 8: 100%|████████████████████████████████████████████████████████████████████████████████████████████████████████████████████████████████████████████████████| 28/28 [00:00<00:00, 731.74batch/s, loss=0.193]\n",
      "Epoch 9: 100%|████████████████████████████████████████████████████████████████████████████████████████████████████████████████████████████████████████████████████| 28/28 [00:00<00:00, 695.19batch/s, loss=0.187]\n",
      "Epoch 10: 100%|███████████████████████████████████████████████████████████████████████████████████████████████████████████████████████████████████████████████████| 28/28 [00:00<00:00, 725.67batch/s, loss=0.168]\n",
      "Epoch 11: 100%|███████████████████████████████████████████████████████████████████████████████████████████████████████████████████████████████████████████████████| 28/28 [00:00<00:00, 644.39batch/s, loss=0.176]\n",
      "Epoch 12: 100%|████████████████████████████████████████████████████████████████████████████████████████████████████████████████████████████████████████████████████| 28/28 [00:00<00:00, 618.89batch/s, loss=0.16]\n",
      "Epoch 13: 100%|███████████████████████████████████████████████████████████████████████████████████████████████████████████████████████████████████████████████████| 28/28 [00:00<00:00, 602.09batch/s, loss=0.154]\n",
      "Epoch 14: 100%|███████████████████████████████████████████████████████████████████████████████████████████████████████████████████████████████████████████████████| 28/28 [00:00<00:00, 475.87batch/s, loss=0.141]\n",
      "Epoch 15: 100%|███████████████████████████████████████████████████████████████████████████████████████████████████████████████████████████████████████████████████| 28/28 [00:00<00:00, 481.84batch/s, loss=0.141]\n",
      "Epoch 16: 100%|████████████████████████████████████████████████████████████████████████████████████████████████████████████████████████████████████████████████████| 28/28 [00:00<00:00, 501.07batch/s, loss=0.14]\n",
      "Epoch 17: 100%|███████████████████████████████████████████████████████████████████████████████████████████████████████████████████████████████████████████████████| 28/28 [00:00<00:00, 583.44batch/s, loss=0.134]\n",
      "Epoch 18: 100%|███████████████████████████████████████████████████████████████████████████████████████████████████████████████████████████████████████████████████| 28/28 [00:00<00:00, 611.08batch/s, loss=0.117]\n",
      "Epoch 19: 100%|████████████████████████████████████████████████████████████████████████████████████████████████████████████████████████████████████████████████████| 28/28 [00:00<00:00, 737.34batch/s, loss=0.12]\n",
      "Epoch 20: 100%|███████████████████████████████████████████████████████████████████████████████████████████████████████████████████████████████████████████████████| 28/28 [00:00<00:00, 759.05batch/s, loss=0.132]\n",
      "Epoch 21: 100%|███████████████████████████████████████████████████████████████████████████████████████████████████████████████████████████████████████████████████| 28/28 [00:00<00:00, 766.47batch/s, loss=0.132]\n",
      "Epoch 22: 100%|███████████████████████████████████████████████████████████████████████████████████████████████████████████████████████████████████████████████████| 28/28 [00:00<00:00, 770.24batch/s, loss=0.113]\n",
      "Epoch 23: 100%|███████████████████████████████████████████████████████████████████████████████████████████████████████████████████████████████████████████████████| 28/28 [00:00<00:00, 660.33batch/s, loss=0.106]\n",
      "Epoch 24: 100%|███████████████████████████████████████████████████████████████████████████████████████████████████████████████████████████████████████████████████| 28/28 [00:00<00:00, 624.62batch/s, loss=0.109]\n",
      "Epoch 25: 100%|███████████████████████████████████████████████████████████████████████████████████████████████████████████████████████████████████████████████████| 28/28 [00:00<00:00, 648.63batch/s, loss=0.117]\n",
      "Epoch 26: 100%|███████████████████████████████████████████████████████████████████████████████████████████████████████████████████████████████████████████████████| 28/28 [00:00<00:00, 628.39batch/s, loss=0.103]\n",
      "Epoch 27: 100%|███████████████████████████████████████████████████████████████████████████████████████████████████████████████████████████████████████████████████| 28/28 [00:00<00:00, 624.32batch/s, loss=0.106]\n",
      "Epoch 28: 100%|███████████████████████████████████████████████████████████████████████████████████████████████████████████████████████████████████████████████████| 28/28 [00:00<00:00, 662.35batch/s, loss=0.093]\n",
      "Epoch 29: 100%|██████████████████████████████████████████████████████████████████████████████████████████████████████████████████████████████████████████████████| 28/28 [00:00<00:00, 682.53batch/s, loss=0.0877]\n",
      "Epoch 30: 100%|███████████████████████████████████████████████████████████████████████████████████████████████████████████████████████████████████████████████████| 28/28 [00:00<00:00, 682.10batch/s, loss=0.118]\n",
      "Epoch 31: 100%|██████████████████████████████████████████████████████████████████████████████████████████████████████████████████████████████████████████████████| 28/28 [00:00<00:00, 624.68batch/s, loss=0.0953]\n",
      "Epoch 32: 100%|██████████████████████████████████████████████████████████████████████████████████████████████████████████████████████████████████████████████████| 28/28 [00:00<00:00, 635.09batch/s, loss=0.0931]\n",
      "Epoch 33: 100%|███████████████████████████████████████████████████████████████████████████████████████████████████████████████████████████████████████████████████| 28/28 [00:00<00:00, 655.94batch/s, loss=0.093]\n",
      "Epoch 34: 100%|██████████████████████████████████████████████████████████████████████████████████████████████████████████████████████████████████████████████████| 28/28 [00:00<00:00, 645.63batch/s, loss=0.0854]\n",
      "Epoch 35: 100%|███████████████████████████████████████████████████████████████████████████████████████████████████████████████████████████████████████████████████| 28/28 [00:00<00:00, 655.28batch/s, loss=0.105]\n",
      "Epoch 36: 100%|██████████████████████████████████████████████████████████████████████████████████████████████████████████████████████████████████████████████████| 28/28 [00:00<00:00, 648.58batch/s, loss=0.0844]\n",
      "Epoch 37: 100%|██████████████████████████████████████████████████████████████████████████████████████████████████████████████████████████████████████████████████| 28/28 [00:00<00:00, 627.91batch/s, loss=0.0843]\n",
      "Epoch 38: 100%|███████████████████████████████████████████████████████████████████████████████████████████████████████████████████████████████████████████████████| 28/28 [00:00<00:00, 640.47batch/s, loss=0.102]\n",
      "Epoch 39: 100%|██████████████████████████████████████████████████████████████████████████████████████████████████████████████████████████████████████████████████| 28/28 [00:00<00:00, 647.07batch/s, loss=0.0797]\n"
     ]
    }
   ],
   "source": [
    "model = train(\n",
    "    dataset=train_dataset,\n",
    "    batch_size=train_batch_size,\n",
    "    num_train_epochs=num_train_epochs,\n",
    "    learning_rate=learning_rate,\n",
    "    weight_decay=weight_decay,\n",
    ")"
   ]
  },
  {
   "cell_type": "markdown",
   "id": "23d2dc0b-bcfa-4c4b-ab5c-4d96d1d22e03",
   "metadata": {},
   "source": [
    "We can compute the loss on the query dataset."
   ]
  },
  {
   "cell_type": "code",
   "execution_count": 271,
   "id": "6dc3ab20b6cb4050",
   "metadata": {
    "ExecuteTime": {
     "end_time": "2024-03-12T21:02:46.505618Z",
     "start_time": "2024-03-12T21:02:46.503015Z"
    },
    "collapsed": false,
    "jupyter": {
     "outputs_hidden": false
    }
   },
   "outputs": [
    {
     "data": {
      "text/plain": [
       "0.15210735913619255"
      ]
     },
     "execution_count": 271,
     "metadata": {},
     "output_type": "execute_result"
    }
   ],
   "source": [
    "def evaluate(model: nn.Module, dataset: data.Dataset, batch_size: int) -> float:\n",
    "    dataloader = data.DataLoader(\n",
    "        dataset=dataset,\n",
    "        batch_size=batch_size,\n",
    "        shuffle=False,\n",
    "        drop_last=False,\n",
    "    )\n",
    "\n",
    "    model.eval()\n",
    "    total_loss = 0.0\n",
    "    for batch in dataloader:\n",
    "        with torch.no_grad():\n",
    "            inputs, targets = batch\n",
    "            outputs = model(inputs)\n",
    "            loss = F.mse_loss(outputs, targets, reduction=\"sum\")\n",
    "            total_loss += loss.detach().float()\n",
    "\n",
    "    return total_loss.item() / len(dataloader.dataset)\n",
    "\n",
    "evaluate(model=model, dataset=query_dataset, batch_size=eval_batch_size)"
   ]
  },
  {
   "cell_type": "markdown",
   "id": "368fb7a4-8615-4452-8772-4c4d4fcb2944",
   "metadata": {},
   "source": [
    "## Defining a Task"
   ]
  },
  {
   "cell_type": "markdown",
   "id": "6f86702a-6e8f-425a-b47b-de3252b88599",
   "metadata": {},
   "source": [
    "Before computing influence scores, we need to define a `Task` class. This class encapsulates information about the trained model and how influence scores will be computed: (1) how to compute the training loss; (2) how to compute the measurement; (3) which modules to use for influence function computations; and (4) whether the model used attention mask."
   ]
  },
  {
   "cell_type": "code",
   "execution_count": 162,
   "id": "03dad2b0-dd52-47ec-92d1-503914f78951",
   "metadata": {},
   "outputs": [],
   "source": [
    "from kronfluence.analyzer import Analyzer\n",
    "from kronfluence.task import Task"
   ]
  },
  {
   "cell_type": "markdown",
   "id": "7a158910-7f1d-4d47-b59f-8df708d2f358",
   "metadata": {},
   "source": [
    "We can use this helper function to easily get the name of available modules."
   ]
  },
  {
   "cell_type": "code",
   "execution_count": 163,
   "id": "97fdf9f1-5296-4e08-916a-1f593990e620",
   "metadata": {},
   "outputs": [
    {
     "name": "stdout",
     "output_type": "stream",
     "text": [
      "==Model Summary==\n",
      "Module Name: `0`, Module: Linear(in_features=8, out_features=128, bias=True)\n",
      "Module Name: `2`, Module: Linear(in_features=128, out_features=128, bias=True)\n",
      "Module Name: `4`, Module: Linear(in_features=128, out_features=128, bias=True)\n",
      "Module Name: `6`, Module: Linear(in_features=128, out_features=1, bias=True)\n"
     ]
    }
   ],
   "source": [
    "print(Analyzer.get_module_summary(model))"
   ]
  },
  {
   "cell_type": "code",
   "execution_count": 165,
   "id": "41238e1b9bcec5cc",
   "metadata": {
    "ExecuteTime": {
     "end_time": "2024-03-12T20:58:22.611435Z",
     "start_time": "2024-03-12T20:58:22.608172Z"
    },
    "collapsed": false,
    "jupyter": {
     "outputs_hidden": false
    }
   },
   "outputs": [],
   "source": [
    "class RegressionTask(Task):\n",
    "    def compute_train_loss(\n",
    "        self,\n",
    "        batch: Tuple[torch.Tensor, torch.Tensor],\n",
    "        model: nn.Module,\n",
    "        sample: bool = False,\n",
    "    ) -> torch.Tensor:\n",
    "        inputs, targets = batch\n",
    "        outputs = model(inputs)\n",
    "        if not sample:\n",
    "            return F.mse_loss(outputs, targets, reduction=\"sum\")\n",
    "        # Sample the outputs from the model's prediction for Fisher.\n",
    "        with torch.no_grad():\n",
    "            sampled_targets = torch.normal(outputs, std=math.sqrt(0.5))\n",
    "        return F.mse_loss(outputs, sampled_targets.detach(), reduction=\"sum\")\n",
    "\n",
    "    def compute_measurement(\n",
    "        self,\n",
    "        batch: Tuple[torch.Tensor, torch.Tensor],\n",
    "        model: nn.Module,\n",
    "    ) -> torch.Tensor:\n",
    "        # The measurement function is set as a training loss.\n",
    "        return self.compute_train_loss(batch, model, sample=False)\n",
    "\n",
    "    def tracked_modules(self) -> Optional[List[str]]:\n",
    "        # These are the module names we will use to compute influence functions.\n",
    "        return [\"0\", \"2\", \"4\", \"6\"]"
   ]
  },
  {
   "cell_type": "markdown",
   "id": "03d4f582-74b8-41a3-8e09-ebfbe72be849",
   "metadata": {},
   "source": [
    "Kronfluence wraps all supported modules within the model with `TrackedModule`. This wrapper will be used for computing the factors and influence scores. Once your model is ready and the task is defined, prepare your model with:"
   ]
  },
  {
   "cell_type": "code",
   "execution_count": 166,
   "id": "1192b28fd4535410",
   "metadata": {
    "ExecuteTime": {
     "end_time": "2024-03-12T20:58:24.595047Z",
     "start_time": "2024-03-12T20:58:24.588848Z"
    },
    "collapsed": false,
    "jupyter": {
     "outputs_hidden": false
    }
   },
   "outputs": [],
   "source": [
    "task = RegressionTask()\n",
    "model = prepare_model(model, task)"
   ]
  },
  {
   "cell_type": "markdown",
   "id": "fe331fda-fd5f-4555-b952-2cf62aca05ab",
   "metadata": {},
   "source": [
    "You can see that the `TrackedModule` are now installed."
   ]
  },
  {
   "cell_type": "code",
   "execution_count": 25,
   "id": "4a38704b80ff26b2",
   "metadata": {
    "ExecuteTime": {
     "end_time": "2024-03-12T20:59:23.401098Z",
     "start_time": "2024-03-12T20:59:23.396531Z"
    },
    "collapsed": false,
    "jupyter": {
     "outputs_hidden": false
    }
   },
   "outputs": [
    {
     "data": {
      "text/plain": [
       "Sequential(\n",
       "  (0): TrackedLinear(\n",
       "    (original_module): Linear(in_features=8, out_features=128, bias=True)\n",
       "  )\n",
       "  (1): ReLU()\n",
       "  (2): TrackedLinear(\n",
       "    (original_module): Linear(in_features=128, out_features=128, bias=True)\n",
       "  )\n",
       "  (3): ReLU()\n",
       "  (4): TrackedLinear(\n",
       "    (original_module): Linear(in_features=128, out_features=128, bias=True)\n",
       "  )\n",
       "  (5): ReLU()\n",
       "  (6): TrackedLinear(\n",
       "    (original_module): Linear(in_features=128, out_features=1, bias=True)\n",
       "  )\n",
       ")"
      ]
     },
     "execution_count": 25,
     "metadata": {},
     "output_type": "execute_result"
    }
   ],
   "source": [
    "model"
   ]
  },
  {
   "cell_type": "markdown",
   "id": "190902fc-fe59-42c7-a94f-07c577dedbf7",
   "metadata": {},
   "source": [
    "We can define the `Analyzer` instance to compute influence scores."
   ]
  },
  {
   "cell_type": "code",
   "execution_count": 27,
   "id": "19d3800e-a518-4bfe-a0b1-02ebf16b8f3e",
   "metadata": {},
   "outputs": [],
   "source": [
    "analyzer = Analyzer(\n",
    "    analysis_name=\"tutorial\",\n",
    "    model=model,\n",
    "    task=task,\n",
    "    cpu=True,\n",
    ")"
   ]
  },
  {
   "cell_type": "markdown",
   "id": "d5c4fb98-4dd2-4d49-b856-8a989d5a530e",
   "metadata": {},
   "source": [
    "## Computing Influence Factors"
   ]
  },
  {
   "cell_type": "markdown",
   "id": "b05772c8-28f7-4471-acfe-762e55344790",
   "metadata": {},
   "source": [
    "We can compute the activation and pseudo-activation covariance matrices with `fit_covariance_matrices`."
   ]
  },
  {
   "cell_type": "code",
   "execution_count": 167,
   "id": "87964b32dd38d4ff",
   "metadata": {
    "ExecuteTime": {
     "end_time": "2024-03-12T20:59:08.113601Z",
     "start_time": "2024-03-12T20:59:08.079505Z"
    },
    "collapsed": false,
    "jupyter": {
     "outputs_hidden": false
    }
   },
   "outputs": [
    {
     "name": "stderr",
     "output_type": "stream",
     "text": [
      "Fitting covariance matrices [1/1] 100%|█████████████████████████████████████████████████████████████████████████████████████████████████████████████████████████████████████ [time left: 00:00, time spent: 00:00]\n",
      "Fitting covariance matrices [1/1] 100%|█████████████████████████████████████████████████████████████████████████████████████████████████████████████████████████████████████ [time left: 00:00, time spent: 00:00]\n"
     ]
    }
   ],
   "source": [
    "analyzer.fit_covariance_matrices(\n",
    "    factors_name=\"tutorial_factor\",\n",
    "    dataset=train_dataset,\n",
    "    per_device_batch_size=None,\n",
    "    overwrite_output_dir=True,\n",
    ")\n",
    "covariance_factors = analyzer.load_covariance_matrices(factors_name=\"tutorial_factor\")"
   ]
  },
  {
   "cell_type": "markdown",
   "id": "319928b0-3e4a-4a60-8b5e-dd70f5230f82",
   "metadata": {},
   "source": [
    "To access the activation covariance matrix for the first layer, we can run:"
   ]
  },
  {
   "cell_type": "code",
   "execution_count": 168,
   "id": "481af2c88737df72",
   "metadata": {
    "ExecuteTime": {
     "end_time": "2024-03-12T20:59:59.570656Z",
     "start_time": "2024-03-12T20:59:59.567837Z"
    },
    "collapsed": false,
    "jupyter": {
     "outputs_hidden": false
    }
   },
   "outputs": [
    {
     "data": {
      "text/plain": [
       "tensor([[ 9.2700e+02, -2.6189e+02, -3.6628e+02, -5.5314e+01,  7.6628e+01,\n",
       "         -1.1040e+02, -2.0505e+02,  7.0193e+01,  7.0333e-06],\n",
       "        [-2.6189e+02,  9.2700e+02, -2.9841e+02,  1.0027e+02,  3.5432e+01,\n",
       "         -2.5665e+02, -2.6666e+02, -5.2741e+01,  9.9301e-05],\n",
       "        [-3.6628e+02, -2.9841e+02,  9.2700e+02, -2.5373e+02,  3.5927e+02,\n",
       "         -1.5643e+01,  7.8887e+01, -1.5043e+02, -7.6056e-05],\n",
       "        [-5.5314e+01,  1.0027e+02, -2.5373e+02,  9.2700e+02, -6.0582e+02,\n",
       "         -1.7789e+02, -4.1898e+02,  2.6212e+02,  3.2514e-05],\n",
       "        [ 7.6628e+01,  3.5432e+01,  3.5927e+02, -6.0582e+02,  9.2700e+02,\n",
       "         -2.4964e+02,  2.0808e+02, -1.7793e+02,  2.7895e-05],\n",
       "        [-1.1040e+02, -2.5665e+02, -1.5643e+01, -1.7789e+02, -2.4964e+02,\n",
       "          9.2700e+02, -1.5184e+02, -2.1742e+01, -1.1504e-05],\n",
       "        [-2.0505e+02, -2.6666e+02,  7.8887e+01, -4.1898e+02,  2.0808e+02,\n",
       "         -1.5184e+02,  9.2700e+02, -1.1600e+02,  9.4175e-06],\n",
       "        [ 7.0193e+01, -5.2741e+01, -1.5043e+02,  2.6212e+02, -1.7793e+02,\n",
       "         -2.1742e+01, -1.1600e+02,  9.2700e+02,  7.0035e-05],\n",
       "        [ 7.0333e-06,  9.9301e-05, -7.6056e-05,  3.2514e-05,  2.7895e-05,\n",
       "         -1.1504e-05,  9.4175e-06,  7.0035e-05,  9.2700e+02]])"
      ]
     },
     "execution_count": 168,
     "metadata": {},
     "output_type": "execute_result"
    }
   ],
   "source": [
    "covariance_factors[\"activation_covariance\"][\"0\"]"
   ]
  },
  {
   "cell_type": "markdown",
   "id": "a8eb2c2d-32e4-46c8-b53e-c608f2f32091",
   "metadata": {},
   "source": [
    "We can perform Eigendecomposition after fitting covariance matrices."
   ]
  },
  {
   "cell_type": "code",
   "execution_count": 170,
   "id": "31da64ca7f237819",
   "metadata": {
    "ExecuteTime": {
     "end_time": "2024-03-12T21:00:31.570596Z",
     "start_time": "2024-03-12T21:00:31.553063Z"
    },
    "collapsed": false,
    "jupyter": {
     "outputs_hidden": false
    }
   },
   "outputs": [
    {
     "name": "stderr",
     "output_type": "stream",
     "text": [
      "Performing Eigendecomposition [4/4] 100%|███████████████████████████████████████████████████████████████████████████████████████████████████████████████████████████████████ [time left: 00:00, time spent: 00:00]\n"
     ]
    }
   ],
   "source": [
    "analyzer.perform_eigendecomposition(\n",
    "    factors_name=\"tutorial_factor\",\n",
    "    overwrite_output_dir=True,\n",
    ")"
   ]
  },
  {
   "cell_type": "markdown",
   "id": "39c411f2-c1c0-4483-9ec8-2d7ca966237a",
   "metadata": {},
   "source": [
    "Finally, we can fit the Lambda matrices with:"
   ]
  },
  {
   "cell_type": "code",
   "execution_count": 172,
   "id": "582867d0b427db3",
   "metadata": {
    "ExecuteTime": {
     "end_time": "2024-03-12T21:01:00.458530Z",
     "start_time": "2024-03-12T21:01:00.113019Z"
    },
    "collapsed": false,
    "jupyter": {
     "outputs_hidden": false
    }
   },
   "outputs": [
    {
     "name": "stderr",
     "output_type": "stream",
     "text": [
      "Fitting Lambda matrices [1/1] 100%|█████████████████████████████████████████████████████████████████████████████████████████████████████████████████████████████████████████ [time left: 00:00, time spent: 00:00]\n",
      "Fitting Lambda matrices [1/1] 100%|█████████████████████████████████████████████████████████████████████████████████████████████████████████████████████████████████████████ [time left: 00:00, time spent: 00:00]\n"
     ]
    }
   ],
   "source": [
    "analyzer.fit_lambda_matrices(\n",
    "    factors_name=\"tutorial_factor\",\n",
    "    dataset=train_dataset,\n",
    "    per_device_batch_size=None,\n",
    "    overwrite_output_dir=True,\n",
    ")"
   ]
  },
  {
   "cell_type": "markdown",
   "id": "dfad35d4-e0f7-4483-a915-fb28a717c2ed",
   "metadata": {},
   "source": [
    "While we sequentially called `fit_covariance_matrices`, `perform_eigendecomposition`, and `fit_lambda_matrices` in the above example, we can instead fit all required factors with:"
   ]
  },
  {
   "cell_type": "code",
   "execution_count": 174,
   "id": "0f00c60c-c932-42f4-b72f-2a59025c9417",
   "metadata": {},
   "outputs": [
    {
     "name": "stderr",
     "output_type": "stream",
     "text": [
      "Fitting covariance matrices [1/1] 100%|█████████████████████████████████████████████████████████████████████████████████████████████████████████████████████████████████████ [time left: 00:00, time spent: 00:00]\n",
      "Fitting covariance matrices [1/1] 100%|█████████████████████████████████████████████████████████████████████████████████████████████████████████████████████████████████████ [time left: 00:00, time spent: 00:00]\n",
      "Performing Eigendecomposition [4/4] 100%|███████████████████████████████████████████████████████████████████████████████████████████████████████████████████████████████████ [time left: 00:00, time spent: 00:00]\n",
      "Fitting Lambda matrices [1/1] 100%|█████████████████████████████████████████████████████████████████████████████████████████████████████████████████████████████████████████ [time left: 00:00, time spent: 00:00]\n",
      "Fitting Lambda matrices [1/1] 100%|█████████████████████████████████████████████████████████████████████████████████████████████████████████████████████████████████████████ [time left: 00:00, time spent: 00:00]\n"
     ]
    }
   ],
   "source": [
    "analyzer.fit_all_factors(\n",
    "    factors_name=\"tutorial_factor\",\n",
    "    dataset=train_dataset,\n",
    "    per_device_batch_size=None,\n",
    "    overwrite_output_dir=True,\n",
    ")"
   ]
  },
  {
   "cell_type": "markdown",
   "id": "8a7387c5-a4ba-41f1-8365-95b5785b742b",
   "metadata": {},
   "source": [
    "## Computing Influence Scores"
   ]
  },
  {
   "cell_type": "markdown",
   "id": "b57f42e9-ff52-4d13-8493-e00f7fcf3425",
   "metadata": {},
   "source": [
    "After computing all neccessary factors, we can now compute the pairwise influence scores."
   ]
  },
  {
   "cell_type": "code",
   "execution_count": 175,
   "id": "8bdb3aa3d8aade4a",
   "metadata": {
    "ExecuteTime": {
     "end_time": "2024-03-12T21:01:40.623332Z",
     "start_time": "2024-03-12T21:01:40.490302Z"
    },
    "collapsed": false,
    "jupyter": {
     "outputs_hidden": false
    }
   },
   "outputs": [
    {
     "name": "stderr",
     "output_type": "stream",
     "text": [
      "Computing pairwise scores (query gradient) [0/1]   0%|                                                                                                                           [time left: ?, time spent: 00:00]\n",
      "Computing pairwise scores (training gradient) [1/1] 100%|███████████████████████████████████████████████████████████████████████████████████████████████████████████████████ [time left: 00:00, time spent: 00:00]\u001b[A\n",
      "Computing pairwise scores (query gradient) [1/1] 100%|██████████████████████████████████████████████████████████████████████████████████████████████████████████████████████ [time left: 00:00, time spent: 00:00]\n",
      "Computing pairwise scores (query gradient) [0/1]   0%|                                                                                                                           [time left: ?, time spent: 00:00]\n",
      "Computing pairwise scores (training gradient) [1/1] 100%|███████████████████████████████████████████████████████████████████████████████████████████████████████████████████ [time left: 00:00, time spent: 00:00]\u001b[A\n",
      "Computing pairwise scores (query gradient) [1/1] 100%|██████████████████████████████████████████████████████████████████████████████████████████████████████████████████████ [time left: 00:00, time spent: 00:00]\n"
     ]
    }
   ],
   "source": [
    "analyzer.compute_pairwise_scores(\n",
    "    scores_name=\"tutorial_score\",\n",
    "    factors_name=\"tutorial_factor\",\n",
    "    query_dataset=query_dataset,\n",
    "    train_dataset=train_dataset,\n",
    "    per_device_query_batch_size=len(query_dataset),\n",
    "    overwrite_output_dir=True,\n",
    ")"
   ]
  },
  {
   "cell_type": "markdown",
   "id": "b9194624-2311-44c6-adbf-06a24ad41ebd",
   "metadata": {},
   "source": [
    "You can load the pairwise scores with `load_pairwise_scores`. The pairwise score will have the dimension `query_dataset_size x train_dataset_size`."
   ]
  },
  {
   "cell_type": "code",
   "execution_count": 176,
   "id": "51d4f1a9ad39cfab",
   "metadata": {
    "ExecuteTime": {
     "end_time": "2024-03-12T21:01:47.451459Z",
     "start_time": "2024-03-12T21:01:47.448032Z"
    },
    "collapsed": false,
    "jupyter": {
     "outputs_hidden": false
    }
   },
   "outputs": [
    {
     "data": {
      "text/plain": [
       "torch.Size([103, 927])"
      ]
     },
     "execution_count": 176,
     "metadata": {},
     "output_type": "execute_result"
    }
   ],
   "source": [
    "scores = analyzer.load_pairwise_scores(scores_name=\"tutorial_score\")\n",
    "scores[\"all_modules\"].shape"
   ]
  },
  {
   "cell_type": "markdown",
   "id": "261a508a6c02267d",
   "metadata": {
    "collapsed": false,
    "jupyter": {
     "outputs_hidden": false
    }
   },
   "source": [
    "## Counterfactual Experiments"
   ]
  },
  {
   "cell_type": "markdown",
   "id": "35970418-4649-4a8f-886f-ecd4f8e7dbad",
   "metadata": {},
   "source": [
    "How would the model's behaviors on some query data point change if one or more data points were removed from the training dataset? We can use influence functions to identify influential training data points for a randomly selected query dataset."
   ]
  },
  {
   "cell_type": "code",
   "execution_count": 210,
   "id": "4522bd15c0f00882",
   "metadata": {
    "ExecuteTime": {
     "end_time": "2024-03-12T21:05:54.279349Z",
     "start_time": "2024-03-12T21:05:54.269910Z"
    },
    "collapsed": false,
    "jupyter": {
     "outputs_hidden": false
    }
   },
   "outputs": [
    {
     "data": {
      "text/plain": [
       "1"
      ]
     },
     "execution_count": 210,
     "metadata": {},
     "output_type": "execute_result"
    }
   ],
   "source": [
    "import matplotlib.pyplot as plt\n",
    "\n",
    "single_query_dataset = torch.utils.data.Subset(query_dataset, list(range(1)))\n",
    "len(single_query_dataset)"
   ]
  },
  {
   "cell_type": "markdown",
   "id": "760504c5-2b97-4c64-a80a-ce3ba0167d5e",
   "metadata": {},
   "source": [
    "We can compute the averaged loss this selected query data point obtains."
   ]
  },
  {
   "cell_type": "code",
   "execution_count": 204,
   "id": "d705577ebd58b8c8",
   "metadata": {
    "ExecuteTime": {
     "end_time": "2024-03-12T21:13:13.194949Z",
     "start_time": "2024-03-12T21:13:13.178273Z"
    },
    "collapsed": false,
    "jupyter": {
     "outputs_hidden": false
    }
   },
   "outputs": [],
   "source": [
    "def train_and_evaluate(current_train_dataset: data.Dataset, current_eval_dataset: data.Dataset) -> float:\n",
    "    current_model = train(\n",
    "        dataset=current_train_dataset,\n",
    "        batch_size=train_batch_size,\n",
    "        num_train_epochs=num_train_epochs,\n",
    "        learning_rate=learning_rate,\n",
    "        weight_decay=weight_decay,\n",
    "        disable_tqdm=True,\n",
    "    )\n",
    "    return evaluate(model=current_model, dataset=current_eval_dataset, batch_size=eval_batch_size)"
   ]
  },
  {
   "cell_type": "code",
   "execution_count": 234,
   "id": "be1ab297-9260-47a9-82ec-56d1349fa862",
   "metadata": {},
   "outputs": [],
   "source": [
    "num_iter = 20\n",
    "base_loss = 0\n",
    "for _ in range(num_iter):\n",
    "    base_loss += train_and_evaluate(current_train_dataset=train_dataset, current_eval_dataset=single_query_dataset)\n",
    "base_loss /= num_iter"
   ]
  },
  {
   "cell_type": "code",
   "execution_count": 235,
   "id": "afd4ec1a-f0c8-4d2d-bd33-a3bb77198760",
   "metadata": {},
   "outputs": [
    {
     "data": {
      "text/plain": [
       "0.07577588451167686"
      ]
     },
     "execution_count": 235,
     "metadata": {},
     "output_type": "execute_result"
    }
   ],
   "source": [
    "base_loss"
   ]
  },
  {
   "cell_type": "markdown",
   "id": "520de0b1-e6a9-45fc-ae52-ae6f935a4da8",
   "metadata": {},
   "source": [
    "We compute top influential data points for this query dataset."
   ]
  },
  {
   "cell_type": "code",
   "execution_count": 208,
   "id": "8b3eb92fd287b0cc",
   "metadata": {
    "ExecuteTime": {
     "end_time": "2024-03-12T21:06:42.141007Z",
     "start_time": "2024-03-12T21:06:42.067707Z"
    },
    "collapsed": false,
    "jupyter": {
     "outputs_hidden": false
    }
   },
   "outputs": [
    {
     "name": "stderr",
     "output_type": "stream",
     "text": [
      "Fitting covariance matrices [1/1] 100%|█████████████████████████████████████████████████████████████████████████████████████████████████████████████████████████████████████ [time left: 00:00, time spent: 00:00]\n",
      "Fitting covariance matrices [1/1] 100%|█████████████████████████████████████████████████████████████████████████████████████████████████████████████████████████████████████ [time left: 00:00, time spent: 00:00]\n",
      "Performing Eigendecomposition [4/4] 100%|███████████████████████████████████████████████████████████████████████████████████████████████████████████████████████████████████ [time left: 00:00, time spent: 00:00]\n",
      "Fitting Lambda matrices [1/1] 100%|█████████████████████████████████████████████████████████████████████████████████████████████████████████████████████████████████████████ [time left: 00:00, time spent: 00:00]\n",
      "Fitting Lambda matrices [1/1] 100%|█████████████████████████████████████████████████████████████████████████████████████████████████████████████████████████████████████████ [time left: 00:00, time spent: 00:00]\n",
      "Computing pairwise scores (query gradient) [0/1]   0%|                                                                                                                           [time left: ?, time spent: 00:00]\n",
      "Computing pairwise scores (training gradient) [1/1] 100%|███████████████████████████████████████████████████████████████████████████████████████████████████████████████████ [time left: 00:00, time spent: 00:00]\u001b[A\n",
      "Computing pairwise scores (query gradient) [1/1] 100%|██████████████████████████████████████████████████████████████████████████████████████████████████████████████████████ [time left: 00:00, time spent: 00:00]\n",
      "Computing pairwise scores (query gradient) [0/1]   0%|                                                                                                                           [time left: ?, time spent: 00:00]\n",
      "Computing pairwise scores (training gradient) [1/1] 100%|███████████████████████████████████████████████████████████████████████████████████████████████████████████████████ [time left: 00:00, time spent: 00:00]\u001b[A\n",
      "Computing pairwise scores (query gradient) [1/1] 100%|██████████████████████████████████████████████████████████████████████████████████████████████████████████████████████ [time left: 00:00, time spent: 00:00]\n"
     ]
    }
   ],
   "source": [
    "analyzer.fit_all_factors(\n",
    "    factors_name=\"counterfactual_factors\",\n",
    "    dataset=train_dataset,\n",
    "    per_device_batch_size=None,\n",
    "    overwrite_output_dir=True,\n",
    ")\n",
    "analyzer.compute_pairwise_scores(\n",
    "    scores_name=\"counterfactual_scores\",\n",
    "    factors_name=\"counterfactual_factors\",\n",
    "    query_dataset=single_query_dataset,\n",
    "    train_dataset=train_dataset,\n",
    "    per_device_query_batch_size=len(single_query_dataset),\n",
    "    overwrite_output_dir=True,\n",
    ")\n",
    "scores = analyzer.load_pairwise_scores(scores_name=\"counterfactual_scores\")"
   ]
  },
  {
   "cell_type": "markdown",
   "id": "ec9776a5-203b-441d-abd5-27aabf50ff18",
   "metadata": {},
   "source": [
    "We can plot the distribution of influence scores."
   ]
  },
  {
   "cell_type": "code",
   "execution_count": 217,
   "id": "86fd82e97c1c0af9",
   "metadata": {
    "ExecuteTime": {
     "end_time": "2024-03-12T21:08:01.250153Z",
     "start_time": "2024-03-12T21:08:01.244362Z"
    },
    "collapsed": false,
    "jupyter": {
     "outputs_hidden": false
    }
   },
   "outputs": [
    {
     "data": {
      "text/plain": [
       "Text(0, 0.5, 'Scores')"
      ]
     },
     "execution_count": 217,
     "metadata": {},
     "output_type": "execute_result"
    },
    {
     "data": {
      "image/png": "[encoded data removed]",
      "text/plain": [
       "<Figure size 640x480 with 1 Axes>"
      ]
     },
     "metadata": {},
     "output_type": "display_data"
    }
   ],
   "source": [
    "plt.plot(sorted(scores[\"all_modules\"].sum(dim=0) / len(train_dataset)))\n",
    "plt.ylabel(\"Scores\")"
   ]
  },
  {
   "cell_type": "markdown",
   "id": "16c3c019-a9b3-4176-8a30-4f1ce4b3e7e7",
   "metadata": {},
   "source": [
    "What happens if we train the model without the positively influential data points?"
   ]
  },
  {
   "cell_type": "code",
   "execution_count": 222,
   "id": "b07f18b5-7009-4458-aec2-4a49fd595348",
   "metadata": {},
   "outputs": [],
   "source": [
    "def get_topk_indices(current_score: torch.Tensor, topk: int = 1) -> torch.Tensor:\n",
    "    return torch.topk(current_score, topk).indices\n",
    "\n",
    "def get_topk_keep_indices(current_score: torch.Tensor, topk: int = 1) -> List[int]:\n",
    "    remove_indices = get_topk_indices(current_score, topk)\n",
    "    remove_indices = [tensor.item() for tensor in remove_indices]\n",
    "    return list(set(list(range(len(train_dataset)))) - set(remove_indices))"
   ]
  },
  {
   "cell_type": "markdown",
   "id": "c0960cc9-9606-41ed-b7aa-9971789611d3",
   "metadata": {},
   "source": [
    "`get_topk_keep_indices` returns dataset indices with `topk` positively influential data points removed."
   ]
  },
  {
   "cell_type": "code",
   "execution_count": 227,
   "id": "1a22d21e-3d87-4a88-9665-517487f71ef6",
   "metadata": {},
   "outputs": [
    {
     "data": {
      "text/plain": [
       "917"
      ]
     },
     "execution_count": 227,
     "metadata": {},
     "output_type": "execute_result"
    }
   ],
   "source": [
    "len(get_topk_keep_indices(summed_scores, topk=10))"
   ]
  },
  {
   "cell_type": "code",
   "execution_count": 236,
   "id": "b90e2a6a-e6bc-4865-a0f8-4e8d6d8012c6",
   "metadata": {},
   "outputs": [],
   "source": [
    "topk_lst = [20, 40, 60, 80, 100, 120] \n",
    "averaged_loss_lst = []\n",
    "\n",
    "for topk in topk_lst:\n",
    "    keep_indices = get_topk_keep_indices(summed_scores, topk=topk)\n",
    "    \n",
    "    new_loss = 0\n",
    "    for _ in range(num_iter):\n",
    "        new_loss += train_and_evaluate(current_train_dataset=torch.utils.data.Subset(train_dataset, keep_indices), current_eval_dataset=single_query_dataset)\n",
    "    new_loss /= num_iter\n",
    "    averaged_loss_lst.append(new_loss)"
   ]
  },
  {
   "cell_type": "code",
   "execution_count": 240,
   "id": "9e6fd656-c1e5-42cb-87f4-d7690f473fe9",
   "metadata": {},
   "outputs": [
    {
     "data": {
      "text/plain": [
       "Text(0.5, 0, 'Number of Training Samples Removed')"
      ]
     },
     "execution_count": 240,
     "metadata": {},
     "output_type": "execute_result"
    },
    {
     "data": {
      "image/png": "[encoded data removed]",
      "text/plain": [
       "<Figure size 640x480 with 1 Axes>"
      ]
     },
     "metadata": {},
     "output_type": "display_data"
    }
   ],
   "source": [
    "plt.plot([0] + topk_lst, [base_loss] + averaged_loss_lst, \"o-\", markerfacecolor=\"k\")\n",
    "plt.grid()\n",
    "plt.ylabel(\"Query Loss\")\n",
    "plt.xlabel(\"Number of Training Samples Removed\")"
   ]
  },
  {
   "cell_type": "code",
   "execution_count": 250,
   "id": "220ea9ef-778c-48e5-8c65-6f1efac05233",
   "metadata": {},
   "outputs": [],
   "source": [
    "random_indices"
   ]
  },
  {
   "cell_type": "markdown",
   "id": "56ea892e-da35-410b-9b7d-c5a694ea9be9",
   "metadata": {},
   "source": [
    "We can compare influence estimates with random data removal baseline."
   ]
  },
  {
   "cell_type": "code",
   "execution_count": 254,
   "id": "6af9e2b1-b8c1-4825-97ef-e9accc6c2e91",
   "metadata": {},
   "outputs": [],
   "source": [
    "from random import shuffle\n",
    "\n",
    "random_indices = list(range(summed_scores.shape[0]))\n",
    "shuffle(random_indices)"
   ]
  },
  {
   "cell_type": "code",
   "execution_count": 259,
   "id": "868b1ff7796cfafa",
   "metadata": {
    "ExecuteTime": {
     "end_time": "2024-03-12T21:16:31.778208Z",
     "start_time": "2024-03-12T21:16:22.922187Z"
    },
    "collapsed": false,
    "jupyter": {
     "outputs_hidden": false
    }
   },
   "outputs": [],
   "source": [
    "random_averaged_loss_lst = []\n",
    "\n",
    "for topk in topk_lst:\n",
    "    keep_indices = random_indices[topk:]\n",
    "    \n",
    "    new_loss = 0\n",
    "    for _ in range(num_iter):\n",
    "        new_loss += train_and_evaluate(current_train_dataset=torch.utils.data.Subset(train_dataset, keep_indices), current_eval_dataset=single_query_dataset)\n",
    "    new_loss /= num_iter\n",
    "    random_averaged_loss_lst.append(new_loss)"
   ]
  },
  {
   "cell_type": "code",
   "execution_count": 260,
   "id": "86370ac8eb37aee5",
   "metadata": {
    "ExecuteTime": {
     "end_time": "2024-03-12T21:16:35.056487Z",
     "start_time": "2024-03-12T21:16:35.049529Z"
    },
    "collapsed": false,
    "jupyter": {
     "outputs_hidden": false
    }
   },
   "outputs": [
    {
     "data": {
      "text/plain": [
       "Text(0.5, 0, 'Number of Training Samples Removed')"
      ]
     },
     "execution_count": 260,
     "metadata": {},
     "output_type": "execute_result"
    },
    {
     "data": {
      "image/png": "[encoded data removed]",
      "text/plain": [
       "<Figure size 640x480 with 1 Axes>"
      ]
     },
     "metadata": {},
     "output_type": "display_data"
    }
   ],
   "source": [
    "plt.plot([0] + topk_lst, [base_loss] + averaged_loss_lst, \"o-\", markerfacecolor=\"k\", label=\"IF\")\n",
    "plt.plot([0] + topk_lst, [base_loss] + random_averaged_loss_lst, \"o-\", markerfacecolor=\"k\", label=\"Random\")\n",
    "plt.grid()\n",
    "plt.ylabel(\"Query Loss\")\n",
    "plt.xlabel(\"Number of Training Samples Removed\")"
   ]
  },
  {
   "cell_type": "markdown",
   "id": "6e0828b5-e5de-49a8-a008-6f79597d04bb",
   "metadata": {},
   "source": [
    "Influence functions can also help us find negatively influential data points. We can repeat the analysis above."
   ]
  },
  {
   "cell_type": "code",
   "execution_count": 261,
   "id": "669ce001a286fe6f",
   "metadata": {
    "collapsed": false,
    "jupyter": {
     "outputs_hidden": false
    }
   },
   "outputs": [],
   "source": [
    "negative_averaged_loss_lst = []\n",
    "\n",
    "for topk in topk_lst:\n",
    "    keep_indices = get_topk_keep_indices(-summed_scores, topk=topk)\n",
    "    \n",
    "    new_loss = 0\n",
    "    for _ in range(num_iter):\n",
    "        new_loss += train_and_evaluate(current_train_dataset=torch.utils.data.Subset(train_dataset, keep_indices), current_eval_dataset=single_query_dataset)\n",
    "    new_loss /= num_iter\n",
    "    negative_averaged_loss_lst.append(new_loss)"
   ]
  },
  {
   "cell_type": "code",
   "execution_count": 262,
   "id": "733a4953-d037-49f9-beec-5e2e5e414064",
   "metadata": {},
   "outputs": [
    {
     "data": {
      "text/plain": [
       "Text(0.5, 0, 'Number of Training Samples Removed')"
      ]
     },
     "execution_count": 262,
     "metadata": {},
     "output_type": "execute_result"
    },
    {
     "data": {
      "image/png": "[encoded data removed]",
      "text/plain": [
       "<Figure size 640x480 with 1 Axes>"
      ]
     },
     "metadata": {},
     "output_type": "display_data"
    }
   ],
   "source": [
    "plt.plot([0] + topk_lst, [base_loss] + negative_averaged_loss_lst, \"o-\", markerfacecolor=\"k\", label=\"IF\")\n",
    "plt.grid()\n",
    "plt.ylabel(\"Query Loss\")\n",
    "plt.xlabel(\"Number of Training Samples Removed\")"
   ]
  },
  {
   "cell_type": "code",
   "execution_count": null,
   "id": "78506ff8-88e0-47a4-ae43-1dddf874a385",
   "metadata": {},
   "outputs": [],
   "source": []
  }
 ],
 "metadata": {
  "kernelspec": {
   "display_name": "Python 3 (ipykernel)",
   "language": "python",
   "name": "python3"
  },
  "language_info": {
   "codemirror_mode": {
    "name": "ipython",
    "version": 3
   },
   "file_extension": ".py",
   "mimetype": "text/x-python",
   "name": "python",
   "nbconvert_exporter": "python",
   "pygments_lexer": "ipython3",
   "version": "3.9.18"
  }
 },
 "nbformat": 4,
 "nbformat_minor": 5
}
