{
 "cells": [
  {
   "cell_type": "code",
   "execution_count": 1,
   "id": "initial_id",
   "metadata": {
    "collapsed": true,
    "ExecuteTime": {
     "end_time": "2024-03-12T10:46:20.005159Z",
     "start_time": "2024-03-12T10:46:19.995640Z"
    }
   },
   "outputs": [],
   "source": [
    "import kronfluence"
   ]
  },
  {
   "cell_type": "code",
   "execution_count": 2,
   "outputs": [],
   "source": [
    "from examples.uci.train import train, evaluate"
   ],
   "metadata": {
    "collapsed": false,
    "ExecuteTime": {
     "end_time": "2024-03-12T10:47:03.741170Z",
     "start_time": "2024-03-12T10:47:02.235222Z"
    }
   },
   "id": "4e56f0f1d6e34e62"
  },
  {
   "cell_type": "code",
   "execution_count": 43,
   "outputs": [],
   "source": [
    "from kronfluence.analyzer import Analyzer, prepare_model\n",
    "from kronfluence.arguments import ScoreArguments\n",
    "from kronfluence.task import Task\n",
    "from typing import Tuple\n",
    "import torch\n",
    "from torch import nn\n",
    "import math\n",
    "import torch.nn.functional as F"
   ],
   "metadata": {
    "collapsed": false,
    "ExecuteTime": {
     "end_time": "2024-03-12T21:02:46.505618Z",
     "start_time": "2024-03-12T21:02:46.503015Z"
    }
   },
   "id": "6dc3ab20b6cb4050"
  },
  {
   "cell_type": "code",
   "execution_count": 4,
   "outputs": [],
   "source": [
    "from examples.uci.pipeline import construct_regression_mlp, get_regression_dataset"
   ],
   "metadata": {
    "collapsed": false,
    "ExecuteTime": {
     "end_time": "2024-03-12T11:40:46.724609Z",
     "start_time": "2024-03-12T11:40:46.722860Z"
    }
   },
   "id": "f3ed29a0d098c6dd"
  },
  {
   "cell_type": "code",
   "execution_count": 12,
   "outputs": [],
   "source": [
    "dataset_name = \"concrete\"\n",
    "dataset_dir = \"./data\"\n",
    "train_batch_size = 32\n",
    "eval_batch_size = 128\n",
    "num_train_epochs = 40\n",
    "learning_rate = 0.03\n",
    "weight_decay = 1e-05"
   ],
   "metadata": {
    "collapsed": false,
    "ExecuteTime": {
     "end_time": "2024-03-12T20:55:43.240827Z",
     "start_time": "2024-03-12T20:55:43.238178Z"
    }
   },
   "id": "cd2af4deeea3afd7"
  },
  {
   "cell_type": "code",
   "execution_count": 13,
   "outputs": [
    {
     "name": "stderr",
     "output_type": "stream",
     "text": [
      "Epoch 0: 100%|██████████| 28/28 [00:00<00:00, 545.57batch/s, loss=0.889]\n",
      "Epoch 1: 100%|██████████| 28/28 [00:00<00:00, 582.99batch/s, loss=0.56]\n",
      "Epoch 2: 100%|██████████| 28/28 [00:00<00:00, 576.00batch/s, loss=0.436]\n",
      "Epoch 3: 100%|██████████| 28/28 [00:00<00:00, 574.70batch/s, loss=0.365]\n",
      "Epoch 4: 100%|██████████| 28/28 [00:00<00:00, 554.65batch/s, loss=0.309]\n",
      "Epoch 5: 100%|██████████| 28/28 [00:00<00:00, 539.66batch/s, loss=0.251]\n",
      "Epoch 6: 100%|██████████| 28/28 [00:00<00:00, 531.06batch/s, loss=0.224]\n",
      "Epoch 7: 100%|██████████| 28/28 [00:00<00:00, 547.77batch/s, loss=0.217]\n",
      "Epoch 8: 100%|██████████| 28/28 [00:00<00:00, 574.51batch/s, loss=0.186]\n",
      "Epoch 9: 100%|██████████| 28/28 [00:00<00:00, 546.78batch/s, loss=0.21]\n",
      "Epoch 10: 100%|██████████| 28/28 [00:00<00:00, 540.93batch/s, loss=0.189]\n",
      "Epoch 11: 100%|██████████| 28/28 [00:00<00:00, 534.31batch/s, loss=0.181]\n",
      "Epoch 12: 100%|██████████| 28/28 [00:00<00:00, 551.12batch/s, loss=0.171]\n",
      "Epoch 13: 100%|██████████| 28/28 [00:00<00:00, 548.24batch/s, loss=0.147]\n",
      "Epoch 14: 100%|██████████| 28/28 [00:00<00:00, 561.72batch/s, loss=0.15]\n",
      "Epoch 15: 100%|██████████| 28/28 [00:00<00:00, 563.34batch/s, loss=0.143]\n",
      "Epoch 16: 100%|██████████| 28/28 [00:00<00:00, 575.86batch/s, loss=0.143]\n",
      "Epoch 17: 100%|██████████| 28/28 [00:00<00:00, 560.37batch/s, loss=0.15]\n",
      "Epoch 18: 100%|██████████| 28/28 [00:00<00:00, 511.37batch/s, loss=0.142]\n",
      "Epoch 19: 100%|██████████| 28/28 [00:00<00:00, 506.99batch/s, loss=0.119]\n",
      "Epoch 20: 100%|██████████| 28/28 [00:00<00:00, 521.90batch/s, loss=0.118]\n",
      "Epoch 21: 100%|██████████| 28/28 [00:00<00:00, 531.20batch/s, loss=0.112]\n",
      "Epoch 22: 100%|██████████| 28/28 [00:00<00:00, 489.00batch/s, loss=0.122]\n",
      "Epoch 23: 100%|██████████| 28/28 [00:00<00:00, 557.58batch/s, loss=0.12]\n",
      "Epoch 24: 100%|██████████| 28/28 [00:00<00:00, 555.09batch/s, loss=0.104]\n",
      "Epoch 25: 100%|██████████| 28/28 [00:00<00:00, 564.86batch/s, loss=0.0998]\n",
      "Epoch 26: 100%|██████████| 28/28 [00:00<00:00, 565.11batch/s, loss=0.126]\n",
      "Epoch 27: 100%|██████████| 28/28 [00:00<00:00, 540.83batch/s, loss=0.105]\n",
      "Epoch 28: 100%|██████████| 28/28 [00:00<00:00, 561.48batch/s, loss=0.0981]\n",
      "Epoch 29: 100%|██████████| 28/28 [00:00<00:00, 524.37batch/s, loss=0.0991]\n",
      "Epoch 30: 100%|██████████| 28/28 [00:00<00:00, 513.95batch/s, loss=0.104]\n",
      "Epoch 31: 100%|██████████| 28/28 [00:00<00:00, 517.93batch/s, loss=0.0894]\n",
      "Epoch 32: 100%|██████████| 28/28 [00:00<00:00, 522.07batch/s, loss=0.115]\n",
      "Epoch 33: 100%|██████████| 28/28 [00:00<00:00, 521.34batch/s, loss=0.0845]\n",
      "Epoch 34: 100%|██████████| 28/28 [00:00<00:00, 520.06batch/s, loss=0.0926]\n",
      "Epoch 35: 100%|██████████| 28/28 [00:00<00:00, 534.94batch/s, loss=0.0833]\n",
      "Epoch 36: 100%|██████████| 28/28 [00:00<00:00, 517.63batch/s, loss=0.091]\n",
      "Epoch 37: 100%|██████████| 28/28 [00:00<00:00, 520.73batch/s, loss=0.0929]\n",
      "Epoch 38: 100%|██████████| 28/28 [00:00<00:00, 544.11batch/s, loss=0.0883]\n",
      "Epoch 39: 100%|██████████| 28/28 [00:00<00:00, 400.69batch/s, loss=0.0901]\n"
     ]
    }
   ],
   "source": [
    "train_dataset = get_regression_dataset(data_name=dataset_name, split=\"train\", dataset_dir=dataset_dir)\n",
    "\n",
    "model = train(\n",
    "    dataset=train_dataset,\n",
    "    batch_size=train_batch_size,\n",
    "    num_train_epochs=num_train_epochs,\n",
    "    learning_rate=learning_rate,\n",
    "    weight_decay=weight_decay,\n",
    ")"
   ],
   "metadata": {
    "collapsed": false,
    "ExecuteTime": {
     "end_time": "2024-03-12T20:55:46.006660Z",
     "start_time": "2024-03-12T20:55:43.876876Z"
    }
   },
   "id": "c75658f17d06a7ab"
  },
  {
   "cell_type": "code",
   "execution_count": 14,
   "outputs": [
    {
     "data": {
      "text/plain": "0.16043664876697133"
     },
     "execution_count": 14,
     "metadata": {},
     "output_type": "execute_result"
    }
   ],
   "source": [
    "query_dataset = get_regression_dataset(data_name=dataset_name, split=\"valid\", dataset_dir=dataset_dir)\n",
    "\n",
    "evaluate(model=model, dataset=query_dataset, batch_size=eval_batch_size)"
   ],
   "metadata": {
    "collapsed": false,
    "ExecuteTime": {
     "end_time": "2024-03-12T20:55:47.948299Z",
     "start_time": "2024-03-12T20:55:47.939642Z"
    }
   },
   "id": "eed8dcc003228fc4"
  },
  {
   "cell_type": "code",
   "execution_count": 23,
   "outputs": [],
   "source": [
    "BATCH_DTYPE = Tuple[torch.Tensor, torch.Tensor]\n",
    "\n",
    "class RegressionTask(Task):\n",
    "    def compute_train_loss(\n",
    "        self,\n",
    "        batch: BATCH_DTYPE,\n",
    "        model: nn.Module,\n",
    "        sample: bool = False,\n",
    "    ) -> torch.Tensor:\n",
    "        inputs, targets = batch\n",
    "        outputs = model(inputs)\n",
    "        if not sample:\n",
    "            return F.mse_loss(outputs, targets, reduction=\"sum\")\n",
    "        with torch.no_grad():\n",
    "            sampled_targets = torch.normal(outputs, std=math.sqrt(0.5))\n",
    "        return F.mse_loss(outputs, sampled_targets.detach(), reduction=\"sum\")\n",
    "\n",
    "    def compute_measurement(\n",
    "        self,\n",
    "        batch: BATCH_DTYPE,\n",
    "        model: nn.Module,\n",
    "    ) -> torch.Tensor:\n",
    "        # The measurement function is set as a training loss.\n",
    "        return self.compute_train_loss(batch, model, sample=False)"
   ],
   "metadata": {
    "collapsed": false,
    "ExecuteTime": {
     "end_time": "2024-03-12T20:58:22.611435Z",
     "start_time": "2024-03-12T20:58:22.608172Z"
    }
   },
   "id": "41238e1b9bcec5cc"
  },
  {
   "cell_type": "code",
   "execution_count": 24,
   "outputs": [],
   "source": [
    "task = RegressionTask()\n",
    "model = prepare_model(model, task)\n",
    "analyzer = Analyzer(\n",
    "    analysis_name=\"tutorial\",\n",
    "    model=model,\n",
    "    task=task,\n",
    "    cpu=True,\n",
    ")"
   ],
   "metadata": {
    "collapsed": false,
    "ExecuteTime": {
     "end_time": "2024-03-12T20:58:24.595047Z",
     "start_time": "2024-03-12T20:58:24.588848Z"
    }
   },
   "id": "1192b28fd4535410"
  },
  {
   "cell_type": "code",
   "execution_count": 27,
   "outputs": [
    {
     "data": {
      "text/plain": "[('',\n  Sequential(\n    (0): TrackedLinear(\n      (original_module): Linear(in_features=8, out_features=128, bias=True)\n    )\n    (1): ReLU()\n    (2): TrackedLinear(\n      (original_module): Linear(in_features=128, out_features=128, bias=True)\n    )\n    (3): ReLU()\n    (4): TrackedLinear(\n      (original_module): Linear(in_features=128, out_features=128, bias=True)\n    )\n    (5): ReLU()\n    (6): TrackedLinear(\n      (original_module): Linear(in_features=128, out_features=1, bias=True)\n    )\n  )),\n ('0',\n  TrackedLinear(\n    (original_module): Linear(in_features=8, out_features=128, bias=True)\n  )),\n ('0.original_module', Linear(in_features=8, out_features=128, bias=True)),\n ('1', ReLU()),\n ('2',\n  TrackedLinear(\n    (original_module): Linear(in_features=128, out_features=128, bias=True)\n  )),\n ('2.original_module', Linear(in_features=128, out_features=128, bias=True)),\n ('3', ReLU()),\n ('4',\n  TrackedLinear(\n    (original_module): Linear(in_features=128, out_features=128, bias=True)\n  )),\n ('4.original_module', Linear(in_features=128, out_features=128, bias=True)),\n ('5', ReLU()),\n ('6',\n  TrackedLinear(\n    (original_module): Linear(in_features=128, out_features=1, bias=True)\n  )),\n ('6.original_module', Linear(in_features=128, out_features=1, bias=True))]"
     },
     "execution_count": 27,
     "metadata": {},
     "output_type": "execute_result"
    }
   ],
   "source": [
    "list(model.named_modules())"
   ],
   "metadata": {
    "collapsed": false,
    "ExecuteTime": {
     "end_time": "2024-03-12T20:59:23.401098Z",
     "start_time": "2024-03-12T20:59:23.396531Z"
    }
   },
   "id": "4a38704b80ff26b2"
  },
  {
   "cell_type": "code",
   "execution_count": 25,
   "outputs": [
    {
     "name": "stderr",
     "output_type": "stream",
     "text": [
      "Fitting covariance matrices [1/1] 100%|██████████ [time left: 00:00, time spent: 00:00]\n",
      "Fitting covariance matrices [1/1] 100%|██████████ [time left: 00:00, time spent: 00:00]\n"
     ]
    }
   ],
   "source": [
    "covariance_matrices = analyzer.fit_covariance_matrices(\n",
    "    factors_name=\"ekfac\",\n",
    "    dataset=train_dataset,\n",
    "    per_device_batch_size=None,\n",
    "    overwrite_output_dir=True,\n",
    ")"
   ],
   "metadata": {
    "collapsed": false,
    "ExecuteTime": {
     "end_time": "2024-03-12T20:59:08.113601Z",
     "start_time": "2024-03-12T20:59:08.079505Z"
    }
   },
   "id": "87964b32dd38d4ff"
  },
  {
   "cell_type": "code",
   "execution_count": 33,
   "outputs": [
    {
     "data": {
      "text/plain": "torch.Size([129, 129])"
     },
     "execution_count": 33,
     "metadata": {},
     "output_type": "execute_result"
    }
   ],
   "source": [
    "covariance_matrices[\"activation_covariance\"][\"2\"].shape"
   ],
   "metadata": {
    "collapsed": false,
    "ExecuteTime": {
     "end_time": "2024-03-12T20:59:59.570656Z",
     "start_time": "2024-03-12T20:59:59.567837Z"
    }
   },
   "id": "481af2c88737df72"
  },
  {
   "cell_type": "code",
   "execution_count": 34,
   "outputs": [
    {
     "name": "stderr",
     "output_type": "stream",
     "text": [
      "Performing Eigendecomposition [4/4] 100%|██████████ [time left: 00:00, time spent: 00:00]\n"
     ]
    }
   ],
   "source": [
    "eigen_factors = analyzer.perform_eigendecomposition(\n",
    "    factors_name=\"ekfac\",\n",
    "    overwrite_output_dir=True,\n",
    ")"
   ],
   "metadata": {
    "collapsed": false,
    "ExecuteTime": {
     "end_time": "2024-03-12T21:00:31.570596Z",
     "start_time": "2024-03-12T21:00:31.553063Z"
    }
   },
   "id": "31da64ca7f237819"
  },
  {
   "cell_type": "code",
   "execution_count": 36,
   "outputs": [
    {
     "data": {
      "text/plain": "torch.Size([129, 129])"
     },
     "execution_count": 36,
     "metadata": {},
     "output_type": "execute_result"
    }
   ],
   "source": [
    "eigen_factors[\"activation_eigenvectors\"][\"2\"].shape"
   ],
   "metadata": {
    "collapsed": false,
    "ExecuteTime": {
     "end_time": "2024-03-12T21:00:45.840072Z",
     "start_time": "2024-03-12T21:00:45.835288Z"
    }
   },
   "id": "f0178839635f6aff"
  },
  {
   "cell_type": "code",
   "execution_count": 37,
   "outputs": [
    {
     "name": "stderr",
     "output_type": "stream",
     "text": [
      "Fitting Lambda matrices [1/1] 100%|██████████ [time left: 00:00, time spent: 00:00]\n",
      "Fitting Lambda matrices [1/1] 100%|██████████ [time left: 00:00, time spent: 00:00]\n"
     ]
    }
   ],
   "source": [
    "lambda_matrices = analyzer.fit_lambda_matrices(\n",
    "    factors_name=\"ekfac\",\n",
    "    dataset=train_dataset,\n",
    "    per_device_batch_size=None,\n",
    "    overwrite_output_dir=True,\n",
    ")"
   ],
   "metadata": {
    "collapsed": false,
    "ExecuteTime": {
     "end_time": "2024-03-12T21:01:00.458530Z",
     "start_time": "2024-03-12T21:01:00.113019Z"
    }
   },
   "id": "582867d0b427db3"
  },
  {
   "cell_type": "code",
   "execution_count": 38,
   "outputs": [
    {
     "data": {
      "text/plain": "torch.Size([128, 129])"
     },
     "execution_count": 38,
     "metadata": {},
     "output_type": "execute_result"
    }
   ],
   "source": [
    "lambda_matrices[\"lambda_matrix\"][\"2\"].shape"
   ],
   "metadata": {
    "collapsed": false,
    "ExecuteTime": {
     "end_time": "2024-03-12T21:01:07.857067Z",
     "start_time": "2024-03-12T21:01:07.852205Z"
    }
   },
   "id": "526f2e3cb469d6a0"
  },
  {
   "cell_type": "code",
   "execution_count": 39,
   "outputs": [
    {
     "name": "stderr",
     "output_type": "stream",
     "text": [
      "Computing pairwise influence scores [0/1]   0%|           [time left: ?, time spent: 00:00]\n",
      "Computing dot products on training dataset [1/1] 100%|██████████ [time left: 00:00, time spent: 00:00]\n",
      "Computing pairwise influence scores [1/1] 100%|██████████ [time left: 00:00, time spent: 00:00]\n",
      "Computing pairwise influence scores [0/1]   0%|           [time left: ?, time spent: 00:00]\n",
      "Computing dot products on training dataset [1/1] 100%|██████████ [time left: 00:00, time spent: 00:00]\n",
      "Computing pairwise influence scores [1/1] 100%|██████████ [time left: 00:00, time spent: 00:00]\n"
     ]
    }
   ],
   "source": [
    "scores = analyzer.compute_pairwise_scores(\n",
    "    scores_name=\"pairwise\",\n",
    "    factors_name=\"ekfac\",\n",
    "    query_dataset=query_dataset,\n",
    "    train_dataset=train_dataset,\n",
    "    per_device_query_batch_size=len(query_dataset),\n",
    "    overwrite_output_dir=True,\n",
    ")"
   ],
   "metadata": {
    "collapsed": false,
    "ExecuteTime": {
     "end_time": "2024-03-12T21:01:40.623332Z",
     "start_time": "2024-03-12T21:01:40.490302Z"
    }
   },
   "id": "8bdb3aa3d8aade4a"
  },
  {
   "cell_type": "code",
   "execution_count": 41,
   "outputs": [
    {
     "data": {
      "text/plain": "tensor([[ 5.0061e-02, -3.6199e-02, -1.2702e+00,  ...,  2.3542e-03,\n          5.4149e-01,  9.2300e-01],\n        [-4.9688e-01, -2.7395e-02, -3.8494e+00,  ...,  5.6789e-01,\n         -2.4231e+01, -2.9652e+00],\n        [-7.3917e-01, -2.1874e-01, -4.9690e+01,  ..., -2.0099e-01,\n         -7.6540e-01, -1.0384e+00],\n        ...,\n        [ 6.8861e-01,  6.6297e-01,  9.4206e-01,  ..., -8.3435e-01,\n          6.2277e+00,  7.0717e-02],\n        [-1.9911e+00,  6.5527e-01,  6.2227e+00,  ...,  9.6123e-01,\n         -2.0532e+01,  7.6572e+00],\n        [ 1.5878e+00, -2.6181e+00, -5.0869e+00,  ..., -1.7254e-01,\n         -3.7389e+00,  1.4460e+01]])"
     },
     "execution_count": 41,
     "metadata": {},
     "output_type": "execute_result"
    }
   ],
   "source": [
    "scores[\"all_modules\"]"
   ],
   "metadata": {
    "collapsed": false,
    "ExecuteTime": {
     "end_time": "2024-03-12T21:01:47.451459Z",
     "start_time": "2024-03-12T21:01:47.448032Z"
    }
   },
   "id": "51d4f1a9ad39cfab"
  },
  {
   "cell_type": "code",
   "execution_count": 44,
   "outputs": [
    {
     "name": "stderr",
     "output_type": "stream",
     "text": [
      "Computing pairwise influence scores [0/1]   0%|           [time left: ?, time spent: 00:00]\n",
      "Computing dot products on training dataset [1/1] 100%|██████████ [time left: 00:00, time spent: 00:00]\n",
      "Computing pairwise influence scores [1/1] 100%|██████████ [time left: 00:00, time spent: 00:00]\n",
      "Computing pairwise influence scores [0/1]   0%|           [time left: ?, time spent: 00:00]\n",
      "Computing dot products on training dataset [1/1] 100%|██████████ [time left: 00:00, time spent: 00:00]\n",
      "Computing pairwise influence scores [1/1] 100%|██████████ [time left: 00:00, time spent: 00:00]\n"
     ]
    }
   ],
   "source": [
    "score_args = ScoreArguments(per_module_score=True)\n",
    "\n",
    "per_module_scores = analyzer.compute_pairwise_scores(\n",
    "    scores_name=\"per_module\",\n",
    "    factors_name=\"ekfac\",\n",
    "    query_dataset=query_dataset,\n",
    "    train_dataset=train_dataset,\n",
    "    score_args=score_args,\n",
    "    per_device_query_batch_size=len(query_dataset),\n",
    "    overwrite_output_dir=True,\n",
    ")"
   ],
   "metadata": {
    "collapsed": false,
    "ExecuteTime": {
     "end_time": "2024-03-12T21:02:49.326940Z",
     "start_time": "2024-03-12T21:02:49.187921Z"
    }
   },
   "id": "a1edac308383f728"
  },
  {
   "cell_type": "code",
   "execution_count": 45,
   "outputs": [
    {
     "data": {
      "text/plain": "{'0': tensor([[-2.6266e-02, -1.8842e-02,  1.1664e-01,  ...,  2.4500e-03,\n           1.3508e-01, -4.2287e-02],\n         [ 3.0197e-01, -1.4576e-01,  3.2981e-01,  ..., -1.7151e-01,\n           2.1003e+00, -3.2144e+00],\n         [ 1.1908e-02, -1.3091e-02, -3.8957e+00,  ...,  4.9687e-03,\n          -1.2466e+00, -7.2670e-03],\n         ...,\n         [ 8.1234e-01, -6.6214e-01, -7.0342e-02,  ..., -2.6749e-01,\n           6.9416e-02,  2.1124e-02],\n         [ 1.4178e+00,  3.2288e+00, -9.8175e-01,  ...,  1.6657e-01,\n          -4.7388e+00, -3.4997e+00],\n         [-2.0218e-01, -1.7329e+00, -3.7108e+00,  ..., -3.1222e-01,\n           1.6311e+00,  7.7284e+00]]),\n '2': tensor([[  0.1232,  -0.0557,  -0.7605,  ...,   0.1088,   0.3196,   0.7115],\n         [ -1.1788,   0.1449,  -2.5917,  ...,   0.3668,  -2.0784,   1.3429],\n         [ -0.1844,  -0.1768, -23.9932,  ...,   0.3725,  -0.4919,  -1.0844],\n         ...,\n         [ -0.3336,   0.6093,   0.3979,  ...,  -0.9447,   3.0782,  -0.2292],\n         [ -2.0491,  -3.4502,   1.9648,  ...,  -0.1059, -13.8598,   4.9501],\n         [  2.2986,  -0.7076,  -3.8665,  ...,  -0.3188,  -0.5854,  -6.6292]]),\n '4': tensor([[ -0.0514,   0.0343,  -0.6465,  ...,  -0.0979,   0.2112,   0.2504],\n         [  0.5855,   0.0650,  -2.1663,  ...,   0.3206, -25.5599,  -0.6195],\n         [ -0.5678,  -0.0391, -20.6871,  ...,  -0.6139,   1.4205,   0.0583],\n         ...,\n         [  0.1469,   0.7100,   0.4384,  ...,   0.2733,   2.7951,   0.3150],\n         [ -1.4954,   0.8342,   5.7622,  ...,   1.0790,  -2.8883,   5.4326],\n         [ -0.3669,  -0.1428,   3.1085,  ...,   0.4055,  -4.4859,  12.0807]]),\n '6': tensor([[ 4.5021e-03,  4.0613e-03,  2.0121e-02,  ..., -1.1026e-02,\n          -1.2443e-01,  3.3208e-03],\n         [-2.0554e-01, -9.1504e-02,  5.7879e-01,  ...,  5.1960e-02,\n           1.3072e+00, -4.7417e-01],\n         [ 1.1173e-03,  1.0219e-02, -1.1136e+00,  ...,  3.5497e-02,\n          -4.4738e-01, -4.9912e-03],\n         ...,\n         [ 6.2971e-02,  5.7528e-03,  1.7607e-01,  ...,  1.0451e-01,\n           2.8499e-01, -3.6171e-02],\n         [ 1.3561e-01,  4.2407e-02, -5.2260e-01,  ..., -1.7835e-01,\n           9.5490e-01,  7.7421e-01],\n         [-1.4177e-01, -3.4834e-02, -6.1821e-01,  ...,  5.3028e-02,\n          -2.9870e-01,  1.2801e+00]])}"
     },
     "execution_count": 45,
     "metadata": {},
     "output_type": "execute_result"
    }
   ],
   "source": [
    "per_module_scores"
   ],
   "metadata": {
    "collapsed": false,
    "ExecuteTime": {
     "end_time": "2024-03-12T21:02:52.412327Z",
     "start_time": "2024-03-12T21:02:52.406994Z"
    }
   },
   "id": "b439b36290e6a12c"
  },
  {
   "cell_type": "code",
   "execution_count": 47,
   "outputs": [
    {
     "data": {
      "text/plain": "torch.Size([103, 927])"
     },
     "execution_count": 47,
     "metadata": {},
     "output_type": "execute_result"
    }
   ],
   "source": [
    "per_module_scores[\"2\"].shape"
   ],
   "metadata": {
    "collapsed": false,
    "ExecuteTime": {
     "end_time": "2024-03-12T21:03:05.160179Z",
     "start_time": "2024-03-12T21:03:05.155732Z"
    }
   },
   "id": "d4d5dc4917ec0ca5"
  },
  {
   "cell_type": "code",
   "execution_count": 50,
   "outputs": [
    {
     "name": "stderr",
     "output_type": "stream",
     "text": [
      "Computing self-influence scores [9/9] 100%|██████████ [time left: 00:00, time spent: 00:00]\n"
     ]
    }
   ],
   "source": [
    "self_scores = analyzer.compute_self_scores(\n",
    "    scores_name=\"self\",\n",
    "    factors_name=\"ekfac\",\n",
    "    train_dataset=train_dataset,\n",
    "    per_device_train_batch_size=len(query_dataset),\n",
    "    overwrite_output_dir=True,\n",
    ")"
   ],
   "metadata": {
    "collapsed": false,
    "ExecuteTime": {
     "end_time": "2024-03-12T21:03:40.288919Z",
     "start_time": "2024-03-12T21:03:40.046890Z"
    }
   },
   "id": "c19a85a06f41213e"
  },
  {
   "cell_type": "code",
   "execution_count": 53,
   "outputs": [
    {
     "data": {
      "text/plain": "torch.Size([927])"
     },
     "execution_count": 53,
     "metadata": {},
     "output_type": "execute_result"
    }
   ],
   "source": [
    "self_scores[\"all_modules\"].shape"
   ],
   "metadata": {
    "collapsed": false,
    "ExecuteTime": {
     "end_time": "2024-03-12T21:03:50.609012Z",
     "start_time": "2024-03-12T21:03:50.604147Z"
    }
   },
   "id": "7707710849ac2d0f"
  },
  {
   "cell_type": "code",
   "execution_count": null,
   "outputs": [],
   "source": [],
   "metadata": {
    "collapsed": false
   },
   "id": "7d861065aa7bea66"
  },
  {
   "cell_type": "markdown",
   "source": [
    "## Counterfactual"
   ],
   "metadata": {
    "collapsed": false
   },
   "id": "261a508a6c02267d"
  },
  {
   "cell_type": "code",
   "execution_count": 56,
   "outputs": [],
   "source": [
    "small_query_dataset = torch.utils.data.Subset(query_dataset, list(range(10)))"
   ],
   "metadata": {
    "collapsed": false,
    "ExecuteTime": {
     "end_time": "2024-03-12T21:05:54.279349Z",
     "start_time": "2024-03-12T21:05:54.269910Z"
    }
   },
   "id": "4522bd15c0f00882"
  },
  {
   "cell_type": "code",
   "execution_count": 57,
   "outputs": [
    {
     "data": {
      "text/plain": "10"
     },
     "execution_count": 57,
     "metadata": {},
     "output_type": "execute_result"
    }
   ],
   "source": [
    "len(small_query_dataset)"
   ],
   "metadata": {
    "collapsed": false,
    "ExecuteTime": {
     "end_time": "2024-03-12T21:06:00.421397Z",
     "start_time": "2024-03-12T21:06:00.416579Z"
    }
   },
   "id": "407672278a2eb7d7"
  },
  {
   "cell_type": "code",
   "execution_count": 58,
   "outputs": [
    {
     "data": {
      "text/plain": "0.10985381603240967"
     },
     "execution_count": 58,
     "metadata": {},
     "output_type": "execute_result"
    }
   ],
   "source": [
    "evaluate(model=model, dataset=small_query_dataset, batch_size=eval_batch_size)"
   ],
   "metadata": {
    "collapsed": false,
    "ExecuteTime": {
     "end_time": "2024-03-12T21:06:27.168938Z",
     "start_time": "2024-03-12T21:06:27.161268Z"
    }
   },
   "id": "19a50d9bd3a7573"
  },
  {
   "cell_type": "code",
   "execution_count": 59,
   "outputs": [
    {
     "name": "stderr",
     "output_type": "stream",
     "text": [
      "Computing pairwise influence scores [0/1]   0%|           [time left: ?, time spent: 00:00]\n",
      "Computing dot products on training dataset [1/1] 100%|██████████ [time left: 00:00, time spent: 00:00]\n",
      "Computing pairwise influence scores [1/1] 100%|██████████ [time left: 00:00, time spent: 00:00]\n",
      "Computing pairwise influence scores [0/1]   0%|           [time left: ?, time spent: 00:00]\n",
      "Computing dot products on training dataset [1/1] 100%|██████████ [time left: 00:00, time spent: 00:00]\n",
      "Computing pairwise influence scores [1/1] 100%|██████████ [time left: 00:00, time spent: 00:00]\n"
     ]
    }
   ],
   "source": [
    "scores = analyzer.compute_pairwise_scores(\n",
    "    scores_name=\"counterfactual\",\n",
    "    factors_name=\"ekfac\",\n",
    "    query_dataset=small_query_dataset,\n",
    "    train_dataset=train_dataset,\n",
    "    per_device_query_batch_size=len(small_query_dataset),\n",
    "    overwrite_output_dir=True,\n",
    ")"
   ],
   "metadata": {
    "collapsed": false,
    "ExecuteTime": {
     "end_time": "2024-03-12T21:06:42.141007Z",
     "start_time": "2024-03-12T21:06:42.067707Z"
    }
   },
   "id": "8b3eb92fd287b0cc"
  },
  {
   "cell_type": "code",
   "execution_count": 62,
   "outputs": [],
   "source": [
    "summed_scores = scores[\"all_modules\"].sum(dim=0)"
   ],
   "metadata": {
    "collapsed": false,
    "ExecuteTime": {
     "end_time": "2024-03-12T21:08:01.250153Z",
     "start_time": "2024-03-12T21:08:01.244362Z"
    }
   },
   "id": "86fd82e97c1c0af9"
  },
  {
   "cell_type": "code",
   "execution_count": 64,
   "outputs": [
    {
     "data": {
      "text/plain": "tensor([647, 503, 326])"
     },
     "execution_count": 64,
     "metadata": {},
     "output_type": "execute_result"
    }
   ],
   "source": [
    "torch.topk(summed_scores, 3).indices"
   ],
   "metadata": {
    "collapsed": false,
    "ExecuteTime": {
     "end_time": "2024-03-12T21:08:07.688741Z",
     "start_time": "2024-03-12T21:08:07.682234Z"
    }
   },
   "id": "67c3033c9935f72"
  },
  {
   "cell_type": "code",
   "execution_count": 65,
   "outputs": [],
   "source": [
    "def get_top_k_indices(current_score, top_k=1):\n",
    "    return torch.topk(current_score, top_k).indices"
   ],
   "metadata": {
    "collapsed": false,
    "ExecuteTime": {
     "end_time": "2024-03-12T21:08:23.455884Z",
     "start_time": "2024-03-12T21:08:23.450194Z"
    }
   },
   "id": "fc57a82158420f4d"
  },
  {
   "cell_type": "code",
   "execution_count": 66,
   "outputs": [
    {
     "data": {
      "text/plain": "tensor([647, 503, 326, 256, 217,  36, 221, 550, 288, 240])"
     },
     "execution_count": 66,
     "metadata": {},
     "output_type": "execute_result"
    }
   ],
   "source": [
    "get_top_k_indices(summed_scores, top_k=10)"
   ],
   "metadata": {
    "collapsed": false,
    "ExecuteTime": {
     "end_time": "2024-03-12T21:08:31.179881Z",
     "start_time": "2024-03-12T21:08:31.158234Z"
    }
   },
   "id": "ced4a88e4f734621"
  },
  {
   "cell_type": "code",
   "execution_count": 74,
   "outputs": [],
   "source": [
    "def get_keep_indices(remove_indices):\n",
    "    remove_indices = [tensor.item() for tensor in remove_indices]\n",
    "    return list(set(list(range(len(train_dataset)))) - set(remove_indices))"
   ],
   "metadata": {
    "collapsed": false,
    "ExecuteTime": {
     "end_time": "2024-03-12T21:11:01.144295Z",
     "start_time": "2024-03-12T21:11:01.134291Z"
    }
   },
   "id": "877e7b1d0b81a3c"
  },
  {
   "cell_type": "code",
   "execution_count": 76,
   "outputs": [],
   "source": [
    "keep_indices = get_top_k_indices(summed_scores, top_k=10)"
   ],
   "metadata": {
    "collapsed": false,
    "ExecuteTime": {
     "end_time": "2024-03-12T21:11:39.837132Z",
     "start_time": "2024-03-12T21:11:39.833193Z"
    }
   },
   "id": "98f26bc51559a58d"
  },
  {
   "cell_type": "code",
   "execution_count": 72,
   "outputs": [
    {
     "data": {
      "text/plain": "{0,\n 1,\n 2,\n 3,\n 4,\n 5,\n 6,\n 7,\n 8,\n 9,\n 10,\n 11,\n 12,\n 13,\n 14,\n 15,\n 16,\n 17,\n 18,\n 19,\n 20,\n 21,\n 22,\n 23,\n 24,\n 25,\n 26,\n 27,\n 28,\n 29,\n 30,\n 31,\n 32,\n 33,\n 34,\n 35,\n 36,\n 37,\n 38,\n 39,\n 40,\n 41,\n 42,\n 43,\n 44,\n 45,\n 46,\n 47,\n 48,\n 49,\n 50,\n 51,\n 52,\n 53,\n 54,\n 55,\n 56,\n 57,\n 58,\n 59,\n 60,\n 61,\n 62,\n 63,\n 64,\n 65,\n 66,\n 67,\n 68,\n 69,\n 70,\n 71,\n 72,\n 73,\n 74,\n 75,\n 76,\n 77,\n 78,\n 79,\n 80,\n 81,\n 82,\n 83,\n 84,\n 85,\n 86,\n 87,\n 88,\n 89,\n 90,\n 91,\n 92,\n 93,\n 94,\n 95,\n 96,\n 97,\n 98,\n 99,\n 100,\n 101,\n 102,\n 103,\n 104,\n 105,\n 106,\n 107,\n 108,\n 109,\n 110,\n 111,\n 112,\n 113,\n 114,\n 115,\n 116,\n 117,\n 118,\n 119,\n 120,\n 121,\n 122,\n 123,\n 124,\n 125,\n 126,\n 127,\n 128,\n 129,\n 130,\n 131,\n 132,\n 133,\n 134,\n 135,\n 136,\n 137,\n 138,\n 139,\n 140,\n 141,\n 142,\n 143,\n 144,\n 145,\n 146,\n 147,\n 148,\n 149,\n 150,\n 151,\n 152,\n 153,\n 154,\n 155,\n 156,\n 157,\n 158,\n 159,\n 160,\n 161,\n 162,\n 163,\n 164,\n 165,\n 166,\n 167,\n 168,\n 169,\n 170,\n 171,\n 172,\n 173,\n 174,\n 175,\n 176,\n 177,\n 178,\n 179,\n 180,\n 181,\n 182,\n 183,\n 184,\n 185,\n 186,\n 187,\n 188,\n 189,\n 190,\n 191,\n 192,\n 193,\n 194,\n 195,\n 196,\n 197,\n 198,\n 199,\n 200,\n 201,\n 202,\n 203,\n 204,\n 205,\n 206,\n 207,\n 208,\n 209,\n 210,\n 211,\n 212,\n 213,\n 214,\n 215,\n 216,\n 217,\n 218,\n 219,\n 220,\n 221,\n 222,\n 223,\n 224,\n 225,\n 226,\n 227,\n 228,\n 229,\n 230,\n 231,\n 232,\n 233,\n 234,\n 235,\n 236,\n 237,\n 238,\n 239,\n 240,\n 241,\n 242,\n 243,\n 244,\n 245,\n 246,\n 247,\n 248,\n 249,\n 250,\n 251,\n 252,\n 253,\n 254,\n 255,\n 256,\n 257,\n 258,\n 259,\n 260,\n 261,\n 262,\n 263,\n 264,\n 265,\n 266,\n 267,\n 268,\n 269,\n 270,\n 271,\n 272,\n 273,\n 274,\n 275,\n 276,\n 277,\n 278,\n 279,\n 280,\n 281,\n 282,\n 283,\n 284,\n 285,\n 286,\n 287,\n 288,\n 289,\n 290,\n 291,\n 292,\n 293,\n 294,\n 295,\n 296,\n 297,\n 298,\n 299,\n 300,\n 301,\n 302,\n 303,\n 304,\n 305,\n 306,\n 307,\n 308,\n 309,\n 310,\n 311,\n 312,\n 313,\n 314,\n 315,\n 316,\n 317,\n 318,\n 319,\n 320,\n 321,\n 322,\n 323,\n 324,\n 325,\n 326,\n 327,\n 328,\n 329,\n 330,\n 331,\n 332,\n 333,\n 334,\n 335,\n 336,\n 337,\n 338,\n 339,\n 340,\n 341,\n 342,\n 343,\n 344,\n 345,\n 346,\n 347,\n 348,\n 349,\n 350,\n 351,\n 352,\n 353,\n 354,\n 355,\n 356,\n 357,\n 358,\n 359,\n 360,\n 361,\n 362,\n 363,\n 364,\n 365,\n 366,\n 367,\n 368,\n 369,\n 370,\n 371,\n 372,\n 373,\n 374,\n 375,\n 376,\n 377,\n 378,\n 379,\n 380,\n 381,\n 382,\n 383,\n 384,\n 385,\n 386,\n 387,\n 388,\n 389,\n 390,\n 391,\n 392,\n 393,\n 394,\n 395,\n 396,\n 397,\n 398,\n 399,\n 400,\n 401,\n 402,\n 403,\n 404,\n 405,\n 406,\n 407,\n 408,\n 409,\n 410,\n 411,\n 412,\n 413,\n 414,\n 415,\n 416,\n 417,\n 418,\n 419,\n 420,\n 421,\n 422,\n 423,\n 424,\n 425,\n 426,\n 427,\n 428,\n 429,\n 430,\n 431,\n 432,\n 433,\n 434,\n 435,\n 436,\n 437,\n 438,\n 439,\n 440,\n 441,\n 442,\n 443,\n 444,\n 445,\n 446,\n 447,\n 448,\n 449,\n 450,\n 451,\n 452,\n 453,\n 454,\n 455,\n 456,\n 457,\n 458,\n 459,\n 460,\n 461,\n 462,\n 463,\n 464,\n 465,\n 466,\n 467,\n 468,\n 469,\n 470,\n 471,\n 472,\n 473,\n 474,\n 475,\n 476,\n 477,\n 478,\n 479,\n 480,\n 481,\n 482,\n 483,\n 484,\n 485,\n 486,\n 487,\n 488,\n 489,\n 490,\n 491,\n 492,\n 493,\n 494,\n 495,\n 496,\n 497,\n 498,\n 499,\n 500,\n 501,\n 502,\n 503,\n 504,\n 505,\n 506,\n 507,\n 508,\n 509,\n 510,\n 511,\n 512,\n 513,\n 514,\n 515,\n 516,\n 517,\n 518,\n 519,\n 520,\n 521,\n 522,\n 523,\n 524,\n 525,\n 526,\n 527,\n 528,\n 529,\n 530,\n 531,\n 532,\n 533,\n 534,\n 535,\n 536,\n 537,\n 538,\n 539,\n 540,\n 541,\n 542,\n 543,\n 544,\n 545,\n 546,\n 547,\n 548,\n 549,\n 550,\n 551,\n 552,\n 553,\n 554,\n 555,\n 556,\n 557,\n 558,\n 559,\n 560,\n 561,\n 562,\n 563,\n 564,\n 565,\n 566,\n 567,\n 568,\n 569,\n 570,\n 571,\n 572,\n 573,\n 574,\n 575,\n 576,\n 577,\n 578,\n 579,\n 580,\n 581,\n 582,\n 583,\n 584,\n 585,\n 586,\n 587,\n 588,\n 589,\n 590,\n 591,\n 592,\n 593,\n 594,\n 595,\n 596,\n 597,\n 598,\n 599,\n 600,\n 601,\n 602,\n 603,\n 604,\n 605,\n 606,\n 607,\n 608,\n 609,\n 610,\n 611,\n 612,\n 613,\n 614,\n 615,\n 616,\n 617,\n 618,\n 619,\n 620,\n 621,\n 622,\n 623,\n 624,\n 625,\n 626,\n 627,\n 628,\n 629,\n 630,\n 631,\n 632,\n 633,\n 634,\n 635,\n 636,\n 637,\n 638,\n 639,\n 640,\n 641,\n 642,\n 643,\n 644,\n 645,\n 646,\n 647,\n 648,\n 649,\n 650,\n 651,\n 652,\n 653,\n 654,\n 655,\n 656,\n 657,\n 658,\n 659,\n 660,\n 661,\n 662,\n 663,\n 664,\n 665,\n 666,\n 667,\n 668,\n 669,\n 670,\n 671,\n 672,\n 673,\n 674,\n 675,\n 676,\n 677,\n 678,\n 679,\n 680,\n 681,\n 682,\n 683,\n 684,\n 685,\n 686,\n 687,\n 688,\n 689,\n 690,\n 691,\n 692,\n 693,\n 694,\n 695,\n 696,\n 697,\n 698,\n 699,\n 700,\n 701,\n 702,\n 703,\n 704,\n 705,\n 706,\n 707,\n 708,\n 709,\n 710,\n 711,\n 712,\n 713,\n 714,\n 715,\n 716,\n 717,\n 718,\n 719,\n 720,\n 721,\n 722,\n 723,\n 724,\n 725,\n 726,\n 727,\n 728,\n 729,\n 730,\n 731,\n 732,\n 733,\n 734,\n 735,\n 736,\n 737,\n 738,\n 739,\n 740,\n 741,\n 742,\n 743,\n 744,\n 745,\n 746,\n 747,\n 748,\n 749,\n 750,\n 751,\n 752,\n 753,\n 754,\n 755,\n 756,\n 757,\n 758,\n 759,\n 760,\n 761,\n 762,\n 763,\n 764,\n 765,\n 766,\n 767,\n 768,\n 769,\n 770,\n 771,\n 772,\n 773,\n 774,\n 775,\n 776,\n 777,\n 778,\n 779,\n 780,\n 781,\n 782,\n 783,\n 784,\n 785,\n 786,\n 787,\n 788,\n 789,\n 790,\n 791,\n 792,\n 793,\n 794,\n 795,\n 796,\n 797,\n 798,\n 799,\n 800,\n 801,\n 802,\n 803,\n 804,\n 805,\n 806,\n 807,\n 808,\n 809,\n 810,\n 811,\n 812,\n 813,\n 814,\n 815,\n 816,\n 817,\n 818,\n 819,\n 820,\n 821,\n 822,\n 823,\n 824,\n 825,\n 826,\n 827,\n 828,\n 829,\n 830,\n 831,\n 832,\n 833,\n 834,\n 835,\n 836,\n 837,\n 838,\n 839,\n 840,\n 841,\n 842,\n 843,\n 844,\n 845,\n 846,\n 847,\n 848,\n 849,\n 850,\n 851,\n 852,\n 853,\n 854,\n 855,\n 856,\n 857,\n 858,\n 859,\n 860,\n 861,\n 862,\n 863,\n 864,\n 865,\n 866,\n 867,\n 868,\n 869,\n 870,\n 871,\n 872,\n 873,\n 874,\n 875,\n 876,\n 877,\n 878,\n 879,\n 880,\n 881,\n 882,\n 883,\n 884,\n 885,\n 886,\n 887,\n 888,\n 889,\n 890,\n 891,\n 892,\n 893,\n 894,\n 895,\n 896,\n 897,\n 898,\n 899,\n 900,\n 901,\n 902,\n 903,\n 904,\n 905,\n 906,\n 907,\n 908,\n 909,\n 910,\n 911,\n 912,\n 913,\n 914,\n 915,\n 916,\n 917,\n 918,\n 919,\n 920,\n 921,\n 922,\n 923,\n 924,\n 925,\n 926}"
     },
     "execution_count": 72,
     "metadata": {},
     "output_type": "execute_result"
    }
   ],
   "source": [],
   "metadata": {
    "collapsed": false,
    "ExecuteTime": {
     "end_time": "2024-03-12T21:09:57.285981Z",
     "start_time": "2024-03-12T21:09:57.281092Z"
    }
   },
   "id": "92b8efa50738e47f"
  },
  {
   "cell_type": "code",
   "execution_count": 73,
   "outputs": [
    {
     "data": {
      "text/plain": "{tensor(36),\n tensor(217),\n tensor(221),\n tensor(240),\n tensor(256),\n tensor(288),\n tensor(326),\n tensor(503),\n tensor(550),\n tensor(647)}"
     },
     "execution_count": 73,
     "metadata": {},
     "output_type": "execute_result"
    }
   ],
   "source": [
    "set(get_top_k_indices(summed_scores, top_k=10))"
   ],
   "metadata": {
    "collapsed": false,
    "ExecuteTime": {
     "end_time": "2024-03-12T21:10:05.051237Z",
     "start_time": "2024-03-12T21:10:05.035876Z"
    }
   },
   "id": "91540047fceda6b9"
  },
  {
   "cell_type": "code",
   "execution_count": 77,
   "outputs": [],
   "source": [
    "def train_and_evaluate(current_train_dataset, current_eval_dataset):\n",
    "    current_model = train(\n",
    "        dataset=current_train_dataset,\n",
    "        batch_size=train_batch_size,\n",
    "        num_train_epochs=num_train_epochs,\n",
    "        learning_rate=learning_rate,\n",
    "        weight_decay=weight_decay,\n",
    "    )\n",
    "    return evaluate(model=current_model, dataset=current_eval_dataset, batch_size=eval_batch_size)"
   ],
   "metadata": {
    "collapsed": false,
    "ExecuteTime": {
     "end_time": "2024-03-12T21:13:13.194949Z",
     "start_time": "2024-03-12T21:13:13.178273Z"
    }
   },
   "id": "d705577ebd58b8c8"
  },
  {
   "cell_type": "code",
   "execution_count": 78,
   "outputs": [
    {
     "name": "stderr",
     "output_type": "stream",
     "text": [
      "Epoch 0: 100%|██████████| 28/28 [00:00<00:00, 585.87batch/s, loss=0.911]\n",
      "Epoch 1: 100%|██████████| 28/28 [00:00<00:00, 638.57batch/s, loss=0.603]\n",
      "Epoch 2: 100%|██████████| 28/28 [00:00<00:00, 648.91batch/s, loss=0.42]\n",
      "Epoch 3: 100%|██████████| 28/28 [00:00<00:00, 635.11batch/s, loss=0.346]\n",
      "Epoch 4: 100%|██████████| 28/28 [00:00<00:00, 629.13batch/s, loss=0.296]\n",
      "Epoch 5: 100%|██████████| 28/28 [00:00<00:00, 619.84batch/s, loss=0.254]\n",
      "Epoch 6: 100%|██████████| 28/28 [00:00<00:00, 576.69batch/s, loss=0.221]\n",
      "Epoch 7: 100%|██████████| 28/28 [00:00<00:00, 671.24batch/s, loss=0.22]\n",
      "Epoch 8: 100%|██████████| 28/28 [00:00<00:00, 635.33batch/s, loss=0.204]\n",
      "Epoch 9: 100%|██████████| 28/28 [00:00<00:00, 637.90batch/s, loss=0.175]\n",
      "Epoch 10: 100%|██████████| 28/28 [00:00<00:00, 633.97batch/s, loss=0.169]\n",
      "Epoch 11: 100%|██████████| 28/28 [00:00<00:00, 661.69batch/s, loss=0.164]\n",
      "Epoch 12: 100%|██████████| 28/28 [00:00<00:00, 651.29batch/s, loss=0.157]\n",
      "Epoch 13: 100%|██████████| 28/28 [00:00<00:00, 666.77batch/s, loss=0.147]\n",
      "Epoch 14: 100%|██████████| 28/28 [00:00<00:00, 627.28batch/s, loss=0.139]\n",
      "Epoch 15: 100%|██████████| 28/28 [00:00<00:00, 613.12batch/s, loss=0.135]\n",
      "Epoch 16: 100%|██████████| 28/28 [00:00<00:00, 575.97batch/s, loss=0.126]\n",
      "Epoch 17: 100%|██████████| 28/28 [00:00<00:00, 592.14batch/s, loss=0.131]\n",
      "Epoch 18: 100%|██████████| 28/28 [00:00<00:00, 588.64batch/s, loss=0.121]\n",
      "Epoch 19: 100%|██████████| 28/28 [00:00<00:00, 574.55batch/s, loss=0.122]\n",
      "Epoch 20: 100%|██████████| 28/28 [00:00<00:00, 566.52batch/s, loss=0.112]\n",
      "Epoch 21: 100%|██████████| 28/28 [00:00<00:00, 538.18batch/s, loss=0.113]\n",
      "Epoch 22: 100%|██████████| 28/28 [00:00<00:00, 564.85batch/s, loss=0.13]\n",
      "Epoch 23: 100%|██████████| 28/28 [00:00<00:00, 560.32batch/s, loss=0.102]\n",
      "Epoch 24: 100%|██████████| 28/28 [00:00<00:00, 588.20batch/s, loss=0.101]\n",
      "Epoch 25: 100%|██████████| 28/28 [00:00<00:00, 444.86batch/s, loss=0.104]\n",
      "Epoch 26: 100%|██████████| 28/28 [00:00<00:00, 617.74batch/s, loss=0.0965]\n",
      "Epoch 27: 100%|██████████| 28/28 [00:00<00:00, 584.56batch/s, loss=0.0993]\n",
      "Epoch 28: 100%|██████████| 28/28 [00:00<00:00, 560.72batch/s, loss=0.101]\n",
      "Epoch 29: 100%|██████████| 28/28 [00:00<00:00, 598.80batch/s, loss=0.0893]\n",
      "Epoch 30: 100%|██████████| 28/28 [00:00<00:00, 598.30batch/s, loss=0.0995]\n",
      "Epoch 31: 100%|██████████| 28/28 [00:00<00:00, 548.75batch/s, loss=0.0889]\n",
      "Epoch 32: 100%|██████████| 28/28 [00:00<00:00, 676.57batch/s, loss=0.101]\n",
      "Epoch 33: 100%|██████████| 28/28 [00:00<00:00, 637.71batch/s, loss=0.089]\n",
      "Epoch 34: 100%|██████████| 28/28 [00:00<00:00, 626.70batch/s, loss=0.086]\n",
      "Epoch 35: 100%|██████████| 28/28 [00:00<00:00, 584.80batch/s, loss=0.0824]\n",
      "Epoch 36: 100%|██████████| 28/28 [00:00<00:00, 606.39batch/s, loss=0.0985]\n",
      "Epoch 37: 100%|██████████| 28/28 [00:00<00:00, 578.46batch/s, loss=0.0771]\n",
      "Epoch 38: 100%|██████████| 28/28 [00:00<00:00, 577.56batch/s, loss=0.074]\n",
      "Epoch 39: 100%|██████████| 28/28 [00:00<00:00, 631.95batch/s, loss=0.0846]\n"
     ]
    },
    {
     "data": {
      "text/plain": "0.07795017957687378"
     },
     "execution_count": 78,
     "metadata": {},
     "output_type": "execute_result"
    }
   ],
   "source": [
    "train_and_evaluate(train_dataset, current_eval_dataset=small_query_dataset)"
   ],
   "metadata": {
    "collapsed": false,
    "ExecuteTime": {
     "end_time": "2024-03-12T21:13:29.415683Z",
     "start_time": "2024-03-12T21:13:27.270171Z"
    }
   },
   "id": "16be6ab429b5fcd3"
  },
  {
   "cell_type": "code",
   "execution_count": 79,
   "outputs": [
    {
     "name": "stderr",
     "output_type": "stream",
     "text": [
      "Epoch 0: 100%|██████████| 28/28 [00:00<00:00, 626.29batch/s, loss=0.916]\n",
      "Epoch 1: 100%|██████████| 28/28 [00:00<00:00, 605.61batch/s, loss=0.577]\n",
      "Epoch 2: 100%|██████████| 28/28 [00:00<00:00, 658.10batch/s, loss=0.399]\n",
      "Epoch 3: 100%|██████████| 28/28 [00:00<00:00, 642.07batch/s, loss=0.346]\n",
      "Epoch 4: 100%|██████████| 28/28 [00:00<00:00, 646.28batch/s, loss=0.299]\n",
      "Epoch 5: 100%|██████████| 28/28 [00:00<00:00, 640.60batch/s, loss=0.257]\n",
      "Epoch 6: 100%|██████████| 28/28 [00:00<00:00, 609.95batch/s, loss=0.23]\n",
      "Epoch 7: 100%|██████████| 28/28 [00:00<00:00, 644.70batch/s, loss=0.205]\n",
      "Epoch 8: 100%|██████████| 28/28 [00:00<00:00, 672.63batch/s, loss=0.191]\n",
      "Epoch 9: 100%|██████████| 28/28 [00:00<00:00, 643.22batch/s, loss=0.188]\n",
      "Epoch 10: 100%|██████████| 28/28 [00:00<00:00, 577.76batch/s, loss=0.191]\n",
      "Epoch 11: 100%|██████████| 28/28 [00:00<00:00, 639.78batch/s, loss=0.158]\n",
      "Epoch 12: 100%|██████████| 28/28 [00:00<00:00, 659.67batch/s, loss=0.157]\n",
      "Epoch 13: 100%|██████████| 28/28 [00:00<00:00, 651.89batch/s, loss=0.148]\n",
      "Epoch 14: 100%|██████████| 28/28 [00:00<00:00, 631.47batch/s, loss=0.15]\n",
      "Epoch 15: 100%|██████████| 28/28 [00:00<00:00, 642.57batch/s, loss=0.142]\n",
      "Epoch 16: 100%|██████████| 28/28 [00:00<00:00, 659.21batch/s, loss=0.134]\n",
      "Epoch 17: 100%|██████████| 28/28 [00:00<00:00, 701.93batch/s, loss=0.127]\n",
      "Epoch 18: 100%|██████████| 28/28 [00:00<00:00, 645.56batch/s, loss=0.127]\n",
      "Epoch 19: 100%|██████████| 28/28 [00:00<00:00, 637.15batch/s, loss=0.121]\n",
      "Epoch 20: 100%|██████████| 28/28 [00:00<00:00, 674.00batch/s, loss=0.119]\n",
      "Epoch 21: 100%|██████████| 28/28 [00:00<00:00, 588.97batch/s, loss=0.109]\n",
      "Epoch 22: 100%|██████████| 28/28 [00:00<00:00, 583.82batch/s, loss=0.113]\n",
      "Epoch 23: 100%|██████████| 28/28 [00:00<00:00, 597.69batch/s, loss=0.11]\n",
      "Epoch 24: 100%|██████████| 28/28 [00:00<00:00, 624.01batch/s, loss=0.0941]\n",
      "Epoch 25: 100%|██████████| 28/28 [00:00<00:00, 585.46batch/s, loss=0.103]\n",
      "Epoch 26: 100%|██████████| 28/28 [00:00<00:00, 600.24batch/s, loss=0.105]\n",
      "Epoch 27: 100%|██████████| 28/28 [00:00<00:00, 608.82batch/s, loss=0.105]\n",
      "Epoch 28: 100%|██████████| 28/28 [00:00<00:00, 663.98batch/s, loss=0.0937]\n",
      "Epoch 29: 100%|██████████| 28/28 [00:00<00:00, 699.09batch/s, loss=0.0936]\n",
      "Epoch 30: 100%|██████████| 28/28 [00:00<00:00, 685.94batch/s, loss=0.114]\n",
      "Epoch 31: 100%|██████████| 28/28 [00:00<00:00, 689.95batch/s, loss=0.0866]\n",
      "Epoch 32: 100%|██████████| 28/28 [00:00<00:00, 666.33batch/s, loss=0.0854]\n",
      "Epoch 33: 100%|██████████| 28/28 [00:00<00:00, 712.76batch/s, loss=0.0911]\n",
      "Epoch 34: 100%|██████████| 28/28 [00:00<00:00, 710.28batch/s, loss=0.107]\n",
      "Epoch 35: 100%|██████████| 28/28 [00:00<00:00, 666.09batch/s, loss=0.0805]\n",
      "Epoch 36: 100%|██████████| 28/28 [00:00<00:00, 611.20batch/s, loss=0.0826]\n",
      "Epoch 37: 100%|██████████| 28/28 [00:00<00:00, 604.48batch/s, loss=0.08]\n",
      "Epoch 38: 100%|██████████| 28/28 [00:00<00:00, 580.85batch/s, loss=0.0743]\n",
      "Epoch 39: 100%|██████████| 28/28 [00:00<00:00, 604.00batch/s, loss=0.084]\n",
      "Epoch 0: 100%|██████████| 28/28 [00:00<00:00, 583.44batch/s, loss=0.869]\n",
      "Epoch 1: 100%|██████████| 28/28 [00:00<00:00, 577.74batch/s, loss=0.567]\n",
      "Epoch 2: 100%|██████████| 28/28 [00:00<00:00, 661.26batch/s, loss=0.403]\n",
      "Epoch 3: 100%|██████████| 28/28 [00:00<00:00, 668.64batch/s, loss=0.342]\n",
      "Epoch 4: 100%|██████████| 28/28 [00:00<00:00, 679.75batch/s, loss=0.296]\n",
      "Epoch 5: 100%|██████████| 28/28 [00:00<00:00, 640.19batch/s, loss=0.256]\n",
      "Epoch 6: 100%|██████████| 28/28 [00:00<00:00, 680.29batch/s, loss=0.224]\n",
      "Epoch 7: 100%|██████████| 28/28 [00:00<00:00, 655.48batch/s, loss=0.222]\n",
      "Epoch 8: 100%|██████████| 28/28 [00:00<00:00, 694.15batch/s, loss=0.185]\n",
      "Epoch 9: 100%|██████████| 28/28 [00:00<00:00, 665.41batch/s, loss=0.18]\n",
      "Epoch 10:   0%|          | 0/28 [00:00<?, ?batch/s, loss=0.145]  IOPub message rate exceeded.\n",
      "The Jupyter server will temporarily stop sending output\n",
      "to the client in order to avoid crashing it.\n",
      "To change this limit, set the config variable\n",
      "`--ServerApp.iopub_msg_rate_limit`.\n",
      "\n",
      "Current values:\n",
      "ServerApp.iopub_msg_rate_limit=1000.0 (msgs/sec)\n",
      "ServerApp.rate_limit_window=3.0 (secs)\n",
      "\n",
      "Epoch 34: 100%|██████████| 28/28 [00:00<00:00, 641.11batch/s, loss=0.0883]\n",
      "Epoch 35: 100%|██████████| 28/28 [00:00<00:00, 628.71batch/s, loss=0.0917]\n",
      "Epoch 36: 100%|██████████| 28/28 [00:00<00:00, 592.04batch/s, loss=0.0919]\n",
      "Epoch 37: 100%|██████████| 28/28 [00:00<00:00, 655.16batch/s, loss=0.0932]\n",
      "Epoch 38: 100%|██████████| 28/28 [00:00<00:00, 640.88batch/s, loss=0.0908]\n",
      "Epoch 39: 100%|██████████| 28/28 [00:00<00:00, 634.47batch/s, loss=0.082]\n",
      "Epoch 0: 100%|██████████| 28/28 [00:00<00:00, 624.50batch/s, loss=0.841]\n",
      "Epoch 1: 100%|██████████| 28/28 [00:00<00:00, 580.80batch/s, loss=0.525]\n",
      "Epoch 2: 100%|██████████| 28/28 [00:00<00:00, 577.47batch/s, loss=0.394]\n",
      "Epoch 3: 100%|██████████| 28/28 [00:00<00:00, 648.99batch/s, loss=0.326]\n",
      "Epoch 4: 100%|██████████| 28/28 [00:00<00:00, 668.88batch/s, loss=0.279]\n",
      "Epoch 5: 100%|██████████| 28/28 [00:00<00:00, 667.94batch/s, loss=0.242]\n",
      "Epoch 6: 100%|██████████| 28/28 [00:00<00:00, 683.96batch/s, loss=0.23]\n",
      "Epoch 7: 100%|██████████| 28/28 [00:00<00:00, 580.20batch/s, loss=0.196]\n",
      "Epoch 8: 100%|██████████| 28/28 [00:00<00:00, 687.99batch/s, loss=0.182]\n",
      "Epoch 9: 100%|██████████| 28/28 [00:00<00:00, 694.38batch/s, loss=0.209]\n",
      "Epoch 10: 100%|██████████| 28/28 [00:00<00:00, 669.42batch/s, loss=0.197]\n",
      "Epoch 11: 100%|██████████| 28/28 [00:00<00:00, 588.89batch/s, loss=0.159]\n",
      "Epoch 12: 100%|██████████| 28/28 [00:00<00:00, 657.83batch/s, loss=0.157]\n",
      "Epoch 13: 100%|██████████| 28/28 [00:00<00:00, 658.81batch/s, loss=0.142]\n",
      "Epoch 14: 100%|██████████| 28/28 [00:00<00:00, 705.01batch/s, loss=0.132]\n",
      "Epoch 15: 100%|██████████| 28/28 [00:00<00:00, 640.02batch/s, loss=0.127]\n",
      "Epoch 16: 100%|██████████| 28/28 [00:00<00:00, 632.66batch/s, loss=0.132]\n",
      "Epoch 17: 100%|██████████| 28/28 [00:00<00:00, 645.73batch/s, loss=0.133]\n",
      "Epoch 18: 100%|██████████| 28/28 [00:00<00:00, 679.07batch/s, loss=0.136]\n",
      "Epoch 19: 100%|██████████| 28/28 [00:00<00:00, 687.83batch/s, loss=0.137]\n",
      "Epoch 20: 100%|██████████| 28/28 [00:00<00:00, 665.22batch/s, loss=0.117]\n",
      "Epoch 21: 100%|██████████| 28/28 [00:00<00:00, 663.43batch/s, loss=0.12]\n",
      "Epoch 22: 100%|██████████| 28/28 [00:00<00:00, 695.60batch/s, loss=0.119]\n",
      "Epoch 23: 100%|██████████| 28/28 [00:00<00:00, 691.36batch/s, loss=0.105]\n",
      "Epoch 24: 100%|██████████| 28/28 [00:00<00:00, 647.39batch/s, loss=0.106]\n",
      "Epoch 25: 100%|██████████| 28/28 [00:00<00:00, 688.87batch/s, loss=0.114]\n",
      "Epoch 26: 100%|██████████| 28/28 [00:00<00:00, 668.31batch/s, loss=0.0921]\n",
      "Epoch 27: 100%|██████████| 28/28 [00:00<00:00, 674.05batch/s, loss=0.096]\n",
      "Epoch 28: 100%|██████████| 28/28 [00:00<00:00, 630.65batch/s, loss=0.101]\n",
      "Epoch 29: 100%|██████████| 28/28 [00:00<00:00, 661.19batch/s, loss=0.0859]\n",
      "Epoch 30: 100%|██████████| 28/28 [00:00<00:00, 658.99batch/s, loss=0.0864]\n",
      "Epoch 31: 100%|██████████| 28/28 [00:00<00:00, 696.60batch/s, loss=0.0925]\n",
      "Epoch 32: 100%|██████████| 28/28 [00:00<00:00, 683.15batch/s, loss=0.0871]\n",
      "Epoch 33: 100%|██████████| 28/28 [00:00<00:00, 682.58batch/s, loss=0.102]\n",
      "Epoch 34: 100%|██████████| 28/28 [00:00<00:00, 677.05batch/s, loss=0.0856]\n",
      "Epoch 35: 100%|██████████| 28/28 [00:00<00:00, 689.69batch/s, loss=0.0908]\n",
      "Epoch 36: 100%|██████████| 28/28 [00:00<00:00, 658.34batch/s, loss=0.081]\n",
      "Epoch 37: 100%|██████████| 28/28 [00:00<00:00, 714.27batch/s, loss=0.0855]\n",
      "Epoch 38: 100%|██████████| 28/28 [00:00<00:00, 680.21batch/s, loss=0.0835]\n",
      "Epoch 39: 100%|██████████| 28/28 [00:00<00:00, 660.05batch/s, loss=0.0739]\n",
      "Epoch 0: 100%|██████████| 28/28 [00:00<00:00, 668.96batch/s, loss=0.882]\n",
      "Epoch 1: 100%|██████████| 28/28 [00:00<00:00, 699.61batch/s, loss=0.557]\n",
      "Epoch 2: 100%|██████████| 28/28 [00:00<00:00, 657.45batch/s, loss=0.407]\n",
      "Epoch 3: 100%|██████████| 28/28 [00:00<00:00, 632.75batch/s, loss=0.345]\n",
      "Epoch 4: 100%|██████████| 28/28 [00:00<00:00, 643.68batch/s, loss=0.284]\n",
      "Epoch 5:   0%|          | 0/28 [00:00<?, ?batch/s, loss=0.119]  IOPub message rate exceeded.\n",
      "The Jupyter server will temporarily stop sending output\n",
      "to the client in order to avoid crashing it.\n",
      "To change this limit, set the config variable\n",
      "`--ServerApp.iopub_msg_rate_limit`.\n",
      "\n",
      "Current values:\n",
      "ServerApp.iopub_msg_rate_limit=1000.0 (msgs/sec)\n",
      "ServerApp.rate_limit_window=3.0 (secs)\n",
      "\n",
      "Epoch 38: 100%|██████████| 28/28 [00:00<00:00, 717.65batch/s, loss=0.0986]\n",
      "Epoch 39: 100%|██████████| 28/28 [00:00<00:00, 627.46batch/s, loss=0.0763]\n",
      "Epoch 0: 100%|██████████| 28/28 [00:00<00:00, 623.86batch/s, loss=0.919]\n",
      "Epoch 1: 100%|██████████| 28/28 [00:00<00:00, 617.20batch/s, loss=0.616]\n",
      "Epoch 2: 100%|██████████| 28/28 [00:00<00:00, 603.53batch/s, loss=0.435]\n",
      "Epoch 3: 100%|██████████| 28/28 [00:00<00:00, 681.57batch/s, loss=0.356]\n",
      "Epoch 4: 100%|██████████| 28/28 [00:00<00:00, 641.98batch/s, loss=0.303]\n",
      "Epoch 5: 100%|██████████| 28/28 [00:00<00:00, 660.77batch/s, loss=0.262]\n",
      "Epoch 6: 100%|██████████| 28/28 [00:00<00:00, 654.50batch/s, loss=0.239]\n",
      "Epoch 7: 100%|██████████| 28/28 [00:00<00:00, 659.47batch/s, loss=0.208]\n",
      "Epoch 8: 100%|██████████| 28/28 [00:00<00:00, 629.04batch/s, loss=0.21]\n",
      "Epoch 9: 100%|██████████| 28/28 [00:00<00:00, 669.55batch/s, loss=0.18]\n",
      "Epoch 10: 100%|██████████| 28/28 [00:00<00:00, 631.27batch/s, loss=0.179]\n",
      "Epoch 11: 100%|██████████| 28/28 [00:00<00:00, 661.67batch/s, loss=0.178]\n",
      "Epoch 12: 100%|██████████| 28/28 [00:00<00:00, 655.55batch/s, loss=0.163]\n",
      "Epoch 13: 100%|██████████| 28/28 [00:00<00:00, 664.41batch/s, loss=0.145]\n",
      "Epoch 14: 100%|██████████| 28/28 [00:00<00:00, 628.10batch/s, loss=0.145]\n",
      "Epoch 15: 100%|██████████| 28/28 [00:00<00:00, 657.59batch/s, loss=0.144]\n",
      "Epoch 16: 100%|██████████| 28/28 [00:00<00:00, 657.85batch/s, loss=0.131]\n",
      "Epoch 17: 100%|██████████| 28/28 [00:00<00:00, 674.51batch/s, loss=0.127]\n",
      "Epoch 18: 100%|██████████| 28/28 [00:00<00:00, 673.06batch/s, loss=0.128]\n",
      "Epoch 19: 100%|██████████| 28/28 [00:00<00:00, 610.88batch/s, loss=0.12]\n",
      "Epoch 20: 100%|██████████| 28/28 [00:00<00:00, 664.52batch/s, loss=0.121]\n",
      "Epoch 21: 100%|██████████| 28/28 [00:00<00:00, 674.42batch/s, loss=0.134]\n",
      "Epoch 22: 100%|██████████| 28/28 [00:00<00:00, 622.56batch/s, loss=0.123]\n",
      "Epoch 23: 100%|██████████| 28/28 [00:00<00:00, 707.03batch/s, loss=0.109]\n",
      "Epoch 24: 100%|██████████| 28/28 [00:00<00:00, 653.96batch/s, loss=0.115]\n",
      "Epoch 25: 100%|██████████| 28/28 [00:00<00:00, 653.22batch/s, loss=0.108]\n",
      "Epoch 26: 100%|██████████| 28/28 [00:00<00:00, 636.35batch/s, loss=0.11]\n",
      "Epoch 27: 100%|██████████| 28/28 [00:00<00:00, 681.97batch/s, loss=0.104]\n",
      "Epoch 28: 100%|██████████| 28/28 [00:00<00:00, 685.58batch/s, loss=0.112]\n",
      "Epoch 29: 100%|██████████| 28/28 [00:00<00:00, 690.51batch/s, loss=0.112]\n",
      "Epoch 30: 100%|██████████| 28/28 [00:00<00:00, 648.40batch/s, loss=0.0954]\n",
      "Epoch 31: 100%|██████████| 28/28 [00:00<00:00, 632.37batch/s, loss=0.1]\n",
      "Epoch 32: 100%|██████████| 28/28 [00:00<00:00, 613.75batch/s, loss=0.111]\n",
      "Epoch 33: 100%|██████████| 28/28 [00:00<00:00, 679.04batch/s, loss=0.0878]\n",
      "Epoch 34: 100%|██████████| 28/28 [00:00<00:00, 634.20batch/s, loss=0.0952]\n",
      "Epoch 35: 100%|██████████| 28/28 [00:00<00:00, 680.44batch/s, loss=0.0894]\n",
      "Epoch 36: 100%|██████████| 28/28 [00:00<00:00, 690.66batch/s, loss=0.0918]\n",
      "Epoch 37: 100%|██████████| 28/28 [00:00<00:00, 665.56batch/s, loss=0.0822]\n",
      "Epoch 38: 100%|██████████| 28/28 [00:00<00:00, 654.85batch/s, loss=0.086]\n",
      "Epoch 39: 100%|██████████| 28/28 [00:00<00:00, 638.61batch/s, loss=0.0943]\n"
     ]
    }
   ],
   "source": [
    "num_iter = 5\n",
    "base_loss = 0\n",
    "for _ in range(num_iter):\n",
    "    base_loss += train_and_evaluate(current_train_dataset=train_dataset, current_eval_dataset=small_query_dataset)\n",
    "base_loss /= num_iter"
   ],
   "metadata": {
    "collapsed": false,
    "ExecuteTime": {
     "end_time": "2024-03-12T21:14:35.612111Z",
     "start_time": "2024-03-12T21:14:26.657476Z"
    }
   },
   "id": "379eafac7ad1c3b4"
  },
  {
   "cell_type": "code",
   "execution_count": 80,
   "outputs": [
    {
     "data": {
      "text/plain": "0.1237425720691681"
     },
     "execution_count": 80,
     "metadata": {},
     "output_type": "execute_result"
    }
   ],
   "source": [
    "base_loss"
   ],
   "metadata": {
    "collapsed": false,
    "ExecuteTime": {
     "end_time": "2024-03-12T21:14:39.883335Z",
     "start_time": "2024-03-12T21:14:39.876048Z"
    }
   },
   "id": "4a2ab1743a8cf346"
  },
  {
   "cell_type": "code",
   "execution_count": 84,
   "outputs": [
    {
     "name": "stderr",
     "output_type": "stream",
     "text": [
      "Epoch 0: 100%|██████████| 27/27 [00:00<00:00, 570.47batch/s, loss=0.926]\n",
      "Epoch 1: 100%|██████████| 27/27 [00:00<00:00, 567.78batch/s, loss=0.569]\n",
      "Epoch 2: 100%|██████████| 27/27 [00:00<00:00, 570.60batch/s, loss=0.386]\n",
      "Epoch 3: 100%|██████████| 27/27 [00:00<00:00, 584.24batch/s, loss=0.335]\n",
      "Epoch 4: 100%|██████████| 27/27 [00:00<00:00, 543.31batch/s, loss=0.276]\n",
      "Epoch 5: 100%|██████████| 27/27 [00:00<00:00, 611.63batch/s, loss=0.239]\n",
      "Epoch 6: 100%|██████████| 27/27 [00:00<00:00, 579.03batch/s, loss=0.213]\n",
      "Epoch 7: 100%|██████████| 27/27 [00:00<00:00, 587.25batch/s, loss=0.193]\n",
      "Epoch 8: 100%|██████████| 27/27 [00:00<00:00, 632.51batch/s, loss=0.175]\n",
      "Epoch 9: 100%|██████████| 27/27 [00:00<00:00, 581.18batch/s, loss=0.177]\n",
      "Epoch 10: 100%|██████████| 27/27 [00:00<00:00, 577.28batch/s, loss=0.158]\n",
      "Epoch 11: 100%|██████████| 27/27 [00:00<00:00, 419.68batch/s, loss=0.148]\n",
      "Epoch 12: 100%|██████████| 27/27 [00:00<00:00, 531.87batch/s, loss=0.157]\n",
      "Epoch 13: 100%|██████████| 27/27 [00:00<00:00, 535.44batch/s, loss=0.136]\n",
      "Epoch 14: 100%|██████████| 27/27 [00:00<00:00, 543.30batch/s, loss=0.134]\n",
      "Epoch 15: 100%|██████████| 27/27 [00:00<00:00, 586.75batch/s, loss=0.125]\n",
      "Epoch 16: 100%|██████████| 27/27 [00:00<00:00, 590.17batch/s, loss=0.13]\n",
      "Epoch 17: 100%|██████████| 27/27 [00:00<00:00, 407.74batch/s, loss=0.115]\n",
      "Epoch 18: 100%|██████████| 27/27 [00:00<00:00, 629.78batch/s, loss=0.124]\n",
      "Epoch 19: 100%|██████████| 27/27 [00:00<00:00, 629.34batch/s, loss=0.0994]\n",
      "Epoch 20: 100%|██████████| 27/27 [00:00<00:00, 682.78batch/s, loss=0.113]\n",
      "Epoch 21: 100%|██████████| 27/27 [00:00<00:00, 695.72batch/s, loss=0.103]\n",
      "Epoch 22: 100%|██████████| 27/27 [00:00<00:00, 654.56batch/s, loss=0.0986]\n",
      "Epoch 23: 100%|██████████| 27/27 [00:00<00:00, 657.21batch/s, loss=0.102]\n",
      "Epoch 24: 100%|██████████| 27/27 [00:00<00:00, 673.11batch/s, loss=0.0881]\n",
      "Epoch 25: 100%|██████████| 27/27 [00:00<00:00, 681.68batch/s, loss=0.0965]\n",
      "Epoch 26: 100%|██████████| 27/27 [00:00<00:00, 625.14batch/s, loss=0.0915]\n",
      "Epoch 27: 100%|██████████| 27/27 [00:00<00:00, 718.77batch/s, loss=0.0846]\n",
      "Epoch 28: 100%|██████████| 27/27 [00:00<00:00, 668.65batch/s, loss=0.0907]\n",
      "Epoch 29: 100%|██████████| 27/27 [00:00<00:00, 642.95batch/s, loss=0.0831]\n",
      "Epoch 30: 100%|██████████| 27/27 [00:00<00:00, 660.58batch/s, loss=0.083]\n",
      "Epoch 31: 100%|██████████| 27/27 [00:00<00:00, 720.57batch/s, loss=0.078]\n",
      "Epoch 32: 100%|██████████| 27/27 [00:00<00:00, 694.94batch/s, loss=0.0732]\n",
      "Epoch 33: 100%|██████████| 27/27 [00:00<00:00, 675.04batch/s, loss=0.0756]\n",
      "Epoch 34: 100%|██████████| 27/27 [00:00<00:00, 687.41batch/s, loss=0.0781]\n",
      "Epoch 35: 100%|██████████| 27/27 [00:00<00:00, 599.25batch/s, loss=0.076]\n",
      "Epoch 36: 100%|██████████| 27/27 [00:00<00:00, 679.97batch/s, loss=0.0754]\n",
      "Epoch 37: 100%|██████████| 27/27 [00:00<00:00, 693.84batch/s, loss=0.0751]\n",
      "Epoch 38: 100%|██████████| 27/27 [00:00<00:00, 676.10batch/s, loss=0.0732]\n",
      "Epoch 39: 100%|██████████| 27/27 [00:00<00:00, 586.66batch/s, loss=0.0777]\n",
      "Epoch 0: 100%|██████████| 27/27 [00:00<00:00, 680.81batch/s, loss=0.92]\n",
      "Epoch 1: 100%|██████████| 27/27 [00:00<00:00, 645.01batch/s, loss=0.606]\n",
      "Epoch 2: 100%|██████████| 27/27 [00:00<00:00, 659.31batch/s, loss=0.402]\n",
      "Epoch 3: 100%|██████████| 27/27 [00:00<00:00, 693.00batch/s, loss=0.345]\n",
      "Epoch 4: 100%|██████████| 27/27 [00:00<00:00, 680.05batch/s, loss=0.294]\n",
      "Epoch 5: 100%|██████████| 27/27 [00:00<00:00, 640.39batch/s, loss=0.258]\n",
      "Epoch 6: 100%|██████████| 27/27 [00:00<00:00, 653.25batch/s, loss=0.232]\n",
      "Epoch 7: 100%|██████████| 27/27 [00:00<00:00, 676.15batch/s, loss=0.196]\n",
      "Epoch 8: 100%|██████████| 27/27 [00:00<00:00, 662.82batch/s, loss=0.172]\n",
      "Epoch 9: 100%|██████████| 27/27 [00:00<00:00, 663.18batch/s, loss=0.157]\n",
      "Epoch 10: 100%|██████████| 27/27 [00:00<00:00, 665.84batch/s, loss=0.162]\n",
      "Epoch 11: 100%|██████████| 27/27 [00:00<00:00, 659.72batch/s, loss=0.143]\n",
      "Epoch 12:   0%|          | 0/27 [00:00<?, ?batch/s, loss=0.0816] IOPub message rate exceeded.\n",
      "The Jupyter server will temporarily stop sending output\n",
      "to the client in order to avoid crashing it.\n",
      "To change this limit, set the config variable\n",
      "`--ServerApp.iopub_msg_rate_limit`.\n",
      "\n",
      "Current values:\n",
      "ServerApp.iopub_msg_rate_limit=1000.0 (msgs/sec)\n",
      "ServerApp.rate_limit_window=3.0 (secs)\n",
      "\n",
      "Epoch 2: 100%|██████████| 27/27 [00:00<00:00, 671.16batch/s, loss=0.435]\n",
      "Epoch 3: 100%|██████████| 27/27 [00:00<00:00, 610.88batch/s, loss=0.365]\n",
      "Epoch 4: 100%|██████████| 27/27 [00:00<00:00, 590.28batch/s, loss=0.292]\n",
      "Epoch 5: 100%|██████████| 27/27 [00:00<00:00, 605.03batch/s, loss=0.244]\n",
      "Epoch 6: 100%|██████████| 27/27 [00:00<00:00, 673.42batch/s, loss=0.224]\n",
      "Epoch 7: 100%|██████████| 27/27 [00:00<00:00, 618.40batch/s, loss=0.184]\n",
      "Epoch 8: 100%|██████████| 27/27 [00:00<00:00, 634.40batch/s, loss=0.169]\n",
      "Epoch 9: 100%|██████████| 27/27 [00:00<00:00, 610.38batch/s, loss=0.186]\n",
      "Epoch 10: 100%|██████████| 27/27 [00:00<00:00, 660.34batch/s, loss=0.17]\n",
      "Epoch 11: 100%|██████████| 27/27 [00:00<00:00, 669.33batch/s, loss=0.176]\n",
      "Epoch 12: 100%|██████████| 27/27 [00:00<00:00, 680.41batch/s, loss=0.163]\n",
      "Epoch 13: 100%|██████████| 27/27 [00:00<00:00, 659.60batch/s, loss=0.125]\n",
      "Epoch 14: 100%|██████████| 27/27 [00:00<00:00, 624.67batch/s, loss=0.131]\n",
      "Epoch 15: 100%|██████████| 27/27 [00:00<00:00, 635.34batch/s, loss=0.125]\n",
      "Epoch 16: 100%|██████████| 27/27 [00:00<00:00, 612.42batch/s, loss=0.119]\n",
      "Epoch 17: 100%|██████████| 27/27 [00:00<00:00, 653.22batch/s, loss=0.11]\n",
      "Epoch 18: 100%|██████████| 27/27 [00:00<00:00, 638.10batch/s, loss=0.114]\n",
      "Epoch 19: 100%|██████████| 27/27 [00:00<00:00, 662.94batch/s, loss=0.11]\n",
      "Epoch 20: 100%|██████████| 27/27 [00:00<00:00, 662.86batch/s, loss=0.108]\n",
      "Epoch 21: 100%|██████████| 27/27 [00:00<00:00, 667.19batch/s, loss=0.0998]\n",
      "Epoch 22: 100%|██████████| 27/27 [00:00<00:00, 659.81batch/s, loss=0.0976]\n",
      "Epoch 23: 100%|██████████| 27/27 [00:00<00:00, 663.01batch/s, loss=0.0966]\n",
      "Epoch 24: 100%|██████████| 27/27 [00:00<00:00, 671.12batch/s, loss=0.0964]\n",
      "Epoch 25: 100%|██████████| 27/27 [00:00<00:00, 548.85batch/s, loss=0.0913]\n",
      "Epoch 26: 100%|██████████| 27/27 [00:00<00:00, 565.04batch/s, loss=0.0894]\n",
      "Epoch 27: 100%|██████████| 27/27 [00:00<00:00, 576.94batch/s, loss=0.0996]\n",
      "Epoch 28: 100%|██████████| 27/27 [00:00<00:00, 570.40batch/s, loss=0.0798]\n",
      "Epoch 29: 100%|██████████| 27/27 [00:00<00:00, 507.49batch/s, loss=0.101]\n",
      "Epoch 30: 100%|██████████| 27/27 [00:00<00:00, 563.94batch/s, loss=0.0768]\n",
      "Epoch 31: 100%|██████████| 27/27 [00:00<00:00, 563.46batch/s, loss=0.0943]\n",
      "Epoch 32: 100%|██████████| 27/27 [00:00<00:00, 579.51batch/s, loss=0.0846]\n",
      "Epoch 33: 100%|██████████| 27/27 [00:00<00:00, 581.21batch/s, loss=0.0818]\n",
      "Epoch 34: 100%|██████████| 27/27 [00:00<00:00, 584.29batch/s, loss=0.0754]\n",
      "Epoch 35: 100%|██████████| 27/27 [00:00<00:00, 584.11batch/s, loss=0.0773]\n",
      "Epoch 36: 100%|██████████| 27/27 [00:00<00:00, 599.39batch/s, loss=0.0709]\n",
      "Epoch 37: 100%|██████████| 27/27 [00:00<00:00, 587.33batch/s, loss=0.0744]\n",
      "Epoch 38: 100%|██████████| 27/27 [00:00<00:00, 567.45batch/s, loss=0.0724]\n",
      "Epoch 39: 100%|██████████| 27/27 [00:00<00:00, 568.95batch/s, loss=0.0733]\n",
      "Epoch 0: 100%|██████████| 27/27 [00:00<00:00, 615.13batch/s, loss=0.939]\n",
      "Epoch 1: 100%|██████████| 27/27 [00:00<00:00, 552.07batch/s, loss=0.625]\n",
      "Epoch 2: 100%|██████████| 27/27 [00:00<00:00, 563.13batch/s, loss=0.416]\n",
      "Epoch 3: 100%|██████████| 27/27 [00:00<00:00, 596.68batch/s, loss=0.353]\n",
      "Epoch 4: 100%|██████████| 27/27 [00:00<00:00, 659.31batch/s, loss=0.294]\n",
      "Epoch 5: 100%|██████████| 27/27 [00:00<00:00, 676.61batch/s, loss=0.265]\n",
      "Epoch 6: 100%|██████████| 27/27 [00:00<00:00, 635.75batch/s, loss=0.232]\n",
      "Epoch 7: 100%|██████████| 27/27 [00:00<00:00, 654.39batch/s, loss=0.205]\n",
      "Epoch 8: 100%|██████████| 27/27 [00:00<00:00, 641.27batch/s, loss=0.193]\n",
      "Epoch 9: 100%|██████████| 27/27 [00:00<00:00, 696.74batch/s, loss=0.179]\n",
      "Epoch 10: 100%|██████████| 27/27 [00:00<00:00, 655.88batch/s, loss=0.175]\n",
      "Epoch 11: 100%|██████████| 27/27 [00:00<00:00, 658.08batch/s, loss=0.168]\n",
      "Epoch 12: 100%|██████████| 27/27 [00:00<00:00, 669.03batch/s, loss=0.169]\n",
      "Epoch 13: 100%|██████████| 27/27 [00:00<00:00, 677.54batch/s, loss=0.152]\n",
      "Epoch 14:   0%|          | 0/27 [00:00<?, ?batch/s, loss=0.133]  IOPub message rate exceeded.\n",
      "The Jupyter server will temporarily stop sending output\n",
      "to the client in order to avoid crashing it.\n",
      "To change this limit, set the config variable\n",
      "`--ServerApp.iopub_msg_rate_limit`.\n",
      "\n",
      "Current values:\n",
      "ServerApp.iopub_msg_rate_limit=1000.0 (msgs/sec)\n",
      "ServerApp.rate_limit_window=3.0 (secs)\n",
      "\n",
      "Epoch 2: 100%|██████████| 27/27 [00:00<00:00, 622.32batch/s, loss=0.422]\n",
      "Epoch 3: 100%|██████████| 27/27 [00:00<00:00, 635.38batch/s, loss=0.345]\n",
      "Epoch 4: 100%|██████████| 27/27 [00:00<00:00, 560.44batch/s, loss=0.292]\n",
      "Epoch 5: 100%|██████████| 27/27 [00:00<00:00, 555.98batch/s, loss=0.243]\n",
      "Epoch 6: 100%|██████████| 27/27 [00:00<00:00, 590.11batch/s, loss=0.224]\n",
      "Epoch 7: 100%|██████████| 27/27 [00:00<00:00, 562.11batch/s, loss=0.223]\n",
      "Epoch 8: 100%|██████████| 27/27 [00:00<00:00, 555.66batch/s, loss=0.177]\n",
      "Epoch 9: 100%|██████████| 27/27 [00:00<00:00, 585.24batch/s, loss=0.18]\n",
      "Epoch 10: 100%|██████████| 27/27 [00:00<00:00, 593.10batch/s, loss=0.167]\n",
      "Epoch 11: 100%|██████████| 27/27 [00:00<00:00, 586.73batch/s, loss=0.157]\n",
      "Epoch 12: 100%|██████████| 27/27 [00:00<00:00, 564.35batch/s, loss=0.14]\n",
      "Epoch 13: 100%|██████████| 27/27 [00:00<00:00, 588.99batch/s, loss=0.155]\n",
      "Epoch 14: 100%|██████████| 27/27 [00:00<00:00, 348.32batch/s, loss=0.142]\n",
      "Epoch 15: 100%|██████████| 27/27 [00:00<00:00, 529.69batch/s, loss=0.123]\n",
      "Epoch 16: 100%|██████████| 27/27 [00:00<00:00, 564.91batch/s, loss=0.132]\n",
      "Epoch 17: 100%|██████████| 27/27 [00:00<00:00, 576.25batch/s, loss=0.135]\n",
      "Epoch 18: 100%|██████████| 27/27 [00:00<00:00, 561.85batch/s, loss=0.116]\n",
      "Epoch 19: 100%|██████████| 27/27 [00:00<00:00, 571.07batch/s, loss=0.105]\n",
      "Epoch 20: 100%|██████████| 27/27 [00:00<00:00, 524.79batch/s, loss=0.116]\n",
      "Epoch 21: 100%|██████████| 27/27 [00:00<00:00, 614.11batch/s, loss=0.109]\n",
      "Epoch 22: 100%|██████████| 27/27 [00:00<00:00, 625.78batch/s, loss=0.106]\n",
      "Epoch 23: 100%|██████████| 27/27 [00:00<00:00, 600.83batch/s, loss=0.107]\n",
      "Epoch 24: 100%|██████████| 27/27 [00:00<00:00, 679.17batch/s, loss=0.0961]\n",
      "Epoch 25: 100%|██████████| 27/27 [00:00<00:00, 659.89batch/s, loss=0.0858]\n",
      "Epoch 26: 100%|██████████| 27/27 [00:00<00:00, 662.64batch/s, loss=0.0949]\n",
      "Epoch 27: 100%|██████████| 27/27 [00:00<00:00, 586.49batch/s, loss=0.0852]\n",
      "Epoch 28: 100%|██████████| 27/27 [00:00<00:00, 621.75batch/s, loss=0.104]\n",
      "Epoch 29: 100%|██████████| 27/27 [00:00<00:00, 686.93batch/s, loss=0.0779]\n",
      "Epoch 30: 100%|██████████| 27/27 [00:00<00:00, 663.94batch/s, loss=0.0853]\n",
      "Epoch 31: 100%|██████████| 27/27 [00:00<00:00, 675.86batch/s, loss=0.0961]\n",
      "Epoch 32: 100%|██████████| 27/27 [00:00<00:00, 655.45batch/s, loss=0.0767]\n",
      "Epoch 33: 100%|██████████| 27/27 [00:00<00:00, 686.73batch/s, loss=0.0767]\n",
      "Epoch 34: 100%|██████████| 27/27 [00:00<00:00, 660.16batch/s, loss=0.0816]\n",
      "Epoch 35: 100%|██████████| 27/27 [00:00<00:00, 664.14batch/s, loss=0.0777]\n",
      "Epoch 36: 100%|██████████| 27/27 [00:00<00:00, 650.24batch/s, loss=0.0839]\n",
      "Epoch 37: 100%|██████████| 27/27 [00:00<00:00, 640.31batch/s, loss=0.0757]\n",
      "Epoch 38: 100%|██████████| 27/27 [00:00<00:00, 668.68batch/s, loss=0.0675]\n",
      "Epoch 39: 100%|██████████| 27/27 [00:00<00:00, 650.60batch/s, loss=0.0791]\n"
     ]
    }
   ],
   "source": [
    "top_indices = get_top_k_indices(summed_scores, top_k=50)\n",
    "keep_indices = get_keep_indices(top_indices)\n",
    "\n",
    "new_loss = 0\n",
    "for _ in range(num_iter):\n",
    "    new_loss += train_and_evaluate(current_train_dataset=torch.utils.data.Subset(train_dataset, keep_indices), current_eval_dataset=small_query_dataset)\n",
    "new_loss /= num_iter"
   ],
   "metadata": {
    "collapsed": false,
    "ExecuteTime": {
     "end_time": "2024-03-12T21:16:31.778208Z",
     "start_time": "2024-03-12T21:16:22.922187Z"
    }
   },
   "id": "868b1ff7796cfafa"
  },
  {
   "cell_type": "code",
   "execution_count": 85,
   "outputs": [
    {
     "data": {
      "text/plain": "0.35664366722106927"
     },
     "execution_count": 85,
     "metadata": {},
     "output_type": "execute_result"
    }
   ],
   "source": [
    "new_loss"
   ],
   "metadata": {
    "collapsed": false,
    "ExecuteTime": {
     "end_time": "2024-03-12T21:16:35.056487Z",
     "start_time": "2024-03-12T21:16:35.049529Z"
    }
   },
   "id": "86370ac8eb37aee5"
  },
  {
   "cell_type": "code",
   "execution_count": null,
   "outputs": [],
   "source": [],
   "metadata": {
    "collapsed": false
   },
   "id": "669ce001a286fe6f"
  }
 ],
 "metadata": {
  "kernelspec": {
   "display_name": "Python 3",
   "language": "python",
   "name": "python3"
  },
  "language_info": {
   "codemirror_mode": {
    "name": "ipython",
    "version": 2
   },
   "file_extension": ".py",
   "mimetype": "text/x-python",
   "name": "python",
   "nbconvert_exporter": "python",
   "pygments_lexer": "ipython2",
   "version": "2.7.6"
  }
 },
 "nbformat": 4,
 "nbformat_minor": 5
}
